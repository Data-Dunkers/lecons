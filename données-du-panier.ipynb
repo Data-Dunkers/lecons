{
 "cells": [
  {
   "cell_type": "markdown",
   "metadata": {},
   "source": [
    "![Data Dunkers Banner](https://github.com/Data-Dunkers/lessons/blob/main/images/top-banner.jpg?raw=true)\n",
    "\n",
    "<a href=\"https://hub.callysto.ca/jupyter/hub/user-redirect/git-pull?repo=https%3A%2F%2Fgithub.com%2Fdata-dunkers%2Flessons&branch=main&subPath=hoop-data.ipynb&depth=1\" target=\"_parent\"><img src=\"https://raw.githubusercontent.com/Data-Dunkers/lessons/main/images/open-in-callysto-button.svg?sanitize=true\" width=\"123\" height=\"24\" alt=\"Open in Callysto\"/></a>\n",
    "<a href=\"https://colab.research.google.com/github/data-dunkers/lessons/blob/main/hoop-data.ipynb\" target=\"_parent\"><img src=\"https://raw.githubusercontent.com/Data-Dunkers/lessons/main/images/open-in-colab-button.svg?sanitize=true\" width=\"123\" height=\"24\" alt=\"Open in Colab\"/></a>"
   ]
  },
  {
   "cell_type": "markdown",
   "metadata": {},
   "source": [
    "# Traçons les données de Hope"
   ]
  },
  {
   "cell_type": "markdown",
   "metadata": {},
   "source": [
    "## Importations"
   ]
  },
  {
   "cell_type": "markdown",
   "metadata": {},
   "source": [
    "| [Données de la leçon Google Sheets](https://github.com/pbeens/Data-Dunkers/blob/main/Demos/data-from-google-sheet.ipynb) |\n",
    "\n",
    "Nous allons importer [Plotly Express](https://plotly.com/python/plotly-express/) et [pandas](https://pandas.pydata.org/), puis lire la feuille Google en tant que fichier CSV."
   ]
  },
  {
   "cell_type": "code",
   "execution_count": null,
   "metadata": {},
   "outputs": [],
   "source": [
    "import plotly.express as px\n",
    "import pandas as pd\n",
    "\n",
    "url = 'https://docs.google.com/spreadsheets/d/1BFQvIypVAtZTxELURWg69qCXPdkD0c4Lc0CXM4WVIxo/export?format=csv'\n",
    "df = pd.read_csv(url)\n",
    "df"
   ]
  },
  {
   "cell_type": "markdown",
   "metadata": {},
   "source": [
    "## Filtrage des données\n",
    "\n",
    "| [Leçon sur le filtrage des données](https://github.com/pbeens/Data-Dunkers/blob/main/Demos/filtering-data.ipynb) |\n",
    "\n",
    "Ensuite, nous allons créer un filtre pour obtenir nos propres données. Grâce à `df.columns`, nous savons que notre nom se trouve dans le champ `Initials`.\n",
    "\n",
    "La cellule de code suivante va créer le filtre et trier les données, et les stocker dans un nouveau dataframe nommé `student_df`.\n",
    "\n",
    "Modifiez la première ligne du code pour utiliser **vos initiales ou votre nom**."
   ]
  },
  {
   "cell_type": "code",
   "execution_count": null,
   "metadata": {},
   "outputs": [],
   "source": [
    "filter = df['Initials'] == 'PB'\n",
    "\n",
    "student_df = df[filter].sort_values('Shot Distance (feet)')\n",
    "student_df"
   ]
  },
  {
   "cell_type": "markdown",
   "metadata": {},
   "source": [
    "## Sortie graphique"
   ]
  },
  {
   "cell_type": "markdown",
   "metadata": {},
   "source": [
    "| [Leçon sur les graphiques à barres](https://github.com/pbeens/Data-Dunkers/blob/main/Demos/bar-graphs.ipynb) |\n",
    "\n",
    "Dans la cellule suivante, nous regroupons toutes les données de distance et prenons la moyenne de chacune d'entre elles. Nous plaçons ensuite ces données dans un nouveau dataframe nommé `graph_df`."
   ]
  },
  {
   "cell_type": "code",
   "execution_count": null,
   "metadata": {},
   "outputs": [],
   "source": [
    "graph_df = student_df.groupby('Shot Distance (feet)')['# Out of 5'].mean()*20\n",
    "graph_df"
   ]
  },
  {
   "cell_type": "markdown",
   "metadata": {},
   "source": [
    "Modifiez le code ci-dessous en remplaçant `VOTRENOMICI` par votre nom. Exécutez le code et enregistrez votre graphique."
   ]
  },
  {
   "cell_type": "code",
   "execution_count": null,
   "metadata": {},
   "outputs": [],
   "source": [
    "fig = px.???(graph_df, title='Pourcentage de tirs réalisés par rapport à la distance pour VOTRENOMICI')\n",
    "fig.update_layout(yaxis_title='Pourcentage de tirs réalisés')\n",
    "fig.update_yaxes(range=[0, 100])\n",
    "fig.show()"
   ]
  },
  {
   "cell_type": "markdown",
   "metadata": {},
   "source": [
    "N'oubliez pas de sauvegarder votre graphique !"
   ]
  }
 ],
 "metadata": {
  "kernelspec": {
   "display_name": ".venv",
   "language": "python",
   "name": "python3"
  },
  "language_info": {
   "codemirror_mode": {
    "name": "ipython",
    "version": 3
   },
   "file_extension": ".py",
   "mimetype": "text/x-python",
   "name": "python",
   "nbconvert_exporter": "python",
   "pygments_lexer": "ipython3",
   "version": "3.11.4"
  }
 },
 "nbformat": 4,
 "nbformat_minor": 2
}
