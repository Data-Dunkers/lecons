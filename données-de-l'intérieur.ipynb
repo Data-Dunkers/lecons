{
 "cells": [
  {
   "cell_type": "markdown",
   "metadata": {},
   "source": [
    "![Data Dunkers Banner](https://github.com/Data-Dunkers/lessons/blob/main/images/top-banner.jpg?raw=true)\n",
    "\n",
    "<a href=\"https://hub.callysto.ca/jupyter/hub/user-redirect/git-pull?repo=https%3A%2F%2Fgithub.com%2Fdata-dunkers%2Flessons&branch=main&subPath=data-from-internal.ipynb&depth=1\" target=\"_parent\"><img src=\"https://raw.githubusercontent.com/Data-Dunkers/lessons/main/images/open-in-callysto-button.svg?sanitize=true\" width=\"123\" height=\"24\" alt=\"Open in Callysto\"/></a>\n",
    "<a href=\"https://colab.research.google.com/github/data-dunkers/lessons/blob/main/data-from-internal.ipynb\" target=\"_parent\"><img src=\"https://raw.githubusercontent.com/Data-Dunkers/lessons/main/images/open-in-colab-button.svg?sanitize=true\" width=\"123\" height=\"24\" alt=\"Open in Colab\"/></a>"
   ]
  },
  {
   "attachments": {},
   "cell_type": "markdown",
   "metadata": {},
   "source": [
    "# Leçon \"Data Dunkers\" : Les données à l'intérieur du carnet de notes"
   ]
  },
  {
   "cell_type": "markdown",
   "metadata": {},
   "source": [
    "Le cahier d'activités correspondant à ce cahier de leçons est disponible [ici] (https://github.com/Data-Dunkers/activities/blob/main/data-from-internal.ipynb)."
   ]
  },
  {
   "cell_type": "markdown",
   "metadata": {},
   "source": [
    "## Objectifs"
   ]
  },
  {
   "cell_type": "markdown",
   "metadata": {},
   "source": [
    "A la fin de cette leçon, les élèves seront capables de :\n",
    "\n",
    "- Définir et manipuler des données directement dans le code.\n",
    "  - Exemple : Définir des listes de valeurs x et y directement dans un carnet Jupyter et les utiliser pour créer un graphique.\n",
    "- Comprendre le flux de données de base à l'aide du modèle [IPO (Input, Process, Output)] (https://en.wikipedia.org/wiki/IPO_model).\n",
    "  - Exemple : Utiliser le modèle IPO pour structurer un code qui trace des valeurs x et y."
   ]
  },
  {
   "attachments": {},
   "cell_type": "markdown",
   "metadata": {},
   "source": [
    "## Introduction"
   ]
  },
  {
   "attachments": {},
   "cell_type": "markdown",
   "metadata": {},
   "source": [
    "Il existe de nombreuses façons d'obtenir des données, mais les plus courantes sont les suivantes :\n",
    "- dans le code lui-même\n",
    "- d'un fichier [CSV (comma separated values)](https://en.wikipedia.org/wiki/Comma-separated_values)\n",
    "- une feuille de calcul [Excel](https://en.wikipedia.org/wiki/Microsoft_Excel)\n",
    "- une [feuille Google](https://en.wikipedia.org/wiki/Google_Sheets)\n",
    "- une page web\n",
    "\n",
    "Dans cette leçon, nous obtiendrons des données à partir du carnet Jupyter lui-même."
   ]
  },
  {
   "cell_type": "markdown",
   "metadata": {},
   "source": [
    "## Setup"
   ]
  },
  {
   "cell_type": "markdown",
   "metadata": {},
   "source": [
    "Cette première cellule de code essaiera d'importer la [Plotly Express](https://plotly.com/python/plotly-express/) [bibliothèque de code](https://en.wikipedia.org/wiki/Library_(computing)). En cas d'erreur, elle installera la bibliothèque, puis l'importera."
   ]
  },
  {
   "cell_type": "code",
   "execution_count": null,
   "metadata": {},
   "outputs": [],
   "source": [
    "try:\n",
    "    import pandas as pd\n",
    "    display('Pandas importé avec succès')\n",
    "except:\n",
    "    %pip install pandas\n",
    "    import pandas as pd\n",
    "\n",
    "try:\n",
    "    import plotly.express as px\n",
    "    display('Plotly Express importé avec succès')\n",
    "except:\n",
    "    %pip install plotly\n",
    "    import plotly.express as px"
   ]
  },
  {
   "attachments": {},
   "cell_type": "markdown",
   "metadata": {},
   "source": [
    "## [IPO](https://en.wikipedia.org/wiki/IPO_model) : Entrée\n",
    "\n",
    "Voici comment nous pouvons définir des données x et y à utiliser dans le code. Vous verrez que nous avons les nombres 0 à 5 pour l'axe des x, et les carrés de ces nombres pour l'axe des y.\n",
    "\n",
    "Dans cet exemple, le code utilise les deux [listes](https://www.w3schools.com/python/python_lists.asp) de points de données. Elles sont nommées `x_data` et `y_data`. De bons noms de variables permettent de communiquer leur objectif."
   ]
  },
  {
   "cell_type": "code",
   "execution_count": null,
   "metadata": {},
   "outputs": [],
   "source": [
    "x_data = [0, 1, 2, 3, 4, 5]\n",
    "y_data = [0, 1, 4, 9, 16, 25]\n",
    "\n",
    "display(x_data, y_data)"
   ]
  },
  {
   "cell_type": "markdown",
   "metadata": {},
   "source": [
    "## IPO : Processus\n",
    "\n",
    "Il y a généralement une étape **Process**, mais cet exemple simple n'en a pas besoin.\n",
    "\n",
    "*Quelles sortes de choses devez-vous faire sur les données avant de pouvoir les tracer ?"
   ]
  },
  {
   "cell_type": "markdown",
   "metadata": {},
   "source": [
    "## IPO : Sortie\n",
    "\n",
    "Pour créer un tracé linéaire, nous utilisons la **méthode `px.line` **qui se trouve dans la bibliothèque `plotly.express` (représentée par `px`), comme indiqué. Notez comment nous utilisons les **arguments `x=` et `y-`**."
   ]
  },
  {
   "cell_type": "code",
   "execution_count": null,
   "metadata": {},
   "outputs": [],
   "source": [
    "px.line(x=x_data, y=y_data)"
   ]
  },
  {
   "cell_type": "markdown",
   "metadata": {},
   "source": [
    "Ajoutons un titre. Notez la différence dans le code."
   ]
  },
  {
   "cell_type": "code",
   "execution_count": null,
   "metadata": {},
   "outputs": [],
   "source": [
    "px.line(x=x_data, y=y_data, title='X vs Y Plot')"
   ]
  },
  {
   "cell_type": "markdown",
   "metadata": {},
   "source": [
    "Si nous mettons tout cela bout à bout, cela donne ceci :"
   ]
  },
  {
   "cell_type": "code",
   "execution_count": null,
   "metadata": {},
   "outputs": [],
   "source": [
    "# entrée\n",
    "import plotly.express as px\n",
    "\n",
    "# processus\n",
    "x_data = [0, 1, 2, 3, 4, 5]\n",
    "y_data = [0, 1, 4, 9, 16, 25]\n",
    "\n",
    "# sortie\n",
    "px.line(x=x_data, y=y_data, title='X vs Y Plot')"
   ]
  },
  {
   "cell_type": "markdown",
   "metadata": {},
   "source": [
    "## Exercice"
   ]
  },
  {
   "cell_type": "markdown",
   "metadata": {},
   "source": [
    "En utilisant le code ci-dessus comme exemple, utilisez les données ci-dessous pour tracer les buts marqués par Pascal Siakam au cours de sa carrière chez les Raptors."
   ]
  },
  {
   "cell_type": "code",
   "execution_count": null,
   "metadata": {},
   "outputs": [],
   "source": [
    "# configuration\n",
    "\n",
    "\n",
    "# entrée\n",
    "year = ['2016-17', '2017-18', '2018-19', '2019-20', '2020-21', '2021-22', '2022-23']\n",
    "FGM = [103, 253, 519, 500, 437, 596, 630]\n",
    "\n",
    "# processus\n",
    "\n",
    "\n",
    "# sortie\n",
    "\n"
   ]
  },
  {
   "cell_type": "markdown",
   "metadata": {},
   "source": [
    "---\n",
    "Dans la prochaine leçon, nous obtiendrons nos données à partir [d'un fichier CSV](données-de-csv.ipynb).\n",
    "\n",
    "---\n",
    "\n",
    "Retour à [Leçons](https://github.com/Data-Dunkers/lessons/blob/main/lessons.ipynb)"
   ]
  }
 ],
 "metadata": {
  "kernelspec": {
   "display_name": "Python 3",
   "language": "python",
   "name": "python3"
  },
  "language_info": {
   "codemirror_mode": {
    "name": "ipython",
    "version": 3
   },
   "file_extension": ".py",
   "mimetype": "text/x-python",
   "name": "python",
   "nbconvert_exporter": "python",
   "pygments_lexer": "ipython3",
   "version": "3.11.9"
  }
 },
 "nbformat": 4,
 "nbformat_minor": 2
}
