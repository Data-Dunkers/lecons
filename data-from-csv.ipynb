{
 "cells": [
  {
   "cell_type": "markdown",
   "metadata": {},
   "source": [
    "![Data Dunkers Banner](https://github.com/Data-Dunkers/lessons/blob/main/images/top-banner.jpg?raw=true)\n",
    "\n",
    "<a href=\"https://hub.callysto.ca/jupyter/hub/user-redirect/git-pull?repo=https%3A%2F%2Fgithub.com%2Fdata-dunkers%2Flessons&branch=main&subPath=data-from-csv.ipynb&depth=1\" target=\"_parent\"><img src=\"https://raw.githubusercontent.com/Data-Dunkers/lessons/main/images/open-in-callysto-button.svg?sanitize=true\" width=\"123\" height=\"24\" alt=\"Open in Callysto\"/></a>\n",
    "<a href=\"https://colab.research.google.com/github/data-dunkers/lessons/blob/main/data-from-csv.ipynb\" target=\"_parent\"><img src=\"https://raw.githubusercontent.com/Data-Dunkers/lessons/main/images/open-in-colab-button.svg?sanitize=true\" width=\"123\" height=\"24\" alt=\"Open in Colab\"/></a>"
   ]
  },
  {
   "attachments": {},
   "cell_type": "markdown",
   "metadata": {},
   "source": [
    "# Leçon de Data Dunkers : Données d'un fichier CSV"
   ]
  },
  {
   "cell_type": "markdown",
   "metadata": {},
   "source": [
    "Le cahier d'activités correspondant à ce cahier de leçons est disponible [ici] (https://github.com/Data-Dunkers/activities/blob/main/data-from-csv.ipynb)."
   ]
  },
  {
   "cell_type": "markdown",
   "metadata": {},
   "source": [
    "## Objectifs"
   ]
  },
  {
   "cell_type": "markdown",
   "metadata": {},
   "source": [
    "À la fin de cette leçon, les élèves seront capables de :\n",
    "- Charger et afficher des données à partir d'un fichier CSV (Comma Separated Values).\n",
    "    - Exemple : Charger et visualiser un ensemble de données de valeurs X et Y à partir d'un fichier CSV pour en comprendre la structure.\n",
    "- Identifier et utiliser les colonnes de données.\n",
    "    - Exemple : Identifier les colonnes \"Saison\" et \"Points\" pour visualiser les performances d'un joueur au fil du temps.\n",
    "- Visualiser efficacement les données à l'aide de graphiques linéaires simples.\n",
    "    - Exemple : Créez un graphique linéaire montrant la relation entre les valeurs X et Y des données CSV."
   ]
  },
  {
   "cell_type": "markdown",
   "metadata": {},
   "source": [
    "## IPO : Configuration et saisie"
   ]
  },
  {
   "attachments": {},
   "cell_type": "markdown",
   "metadata": {},
   "source": [
    "Une méthode courante consiste à obtenir les données en dehors du code, souvent à partir d'un fichier [CSV (comma separated values)] (https://en.wikipedia.org/wiki/Comma-separated_values).\n",
    "\n",
    "Nous allons importer la [bibliothèque de code](https://en.wikipedia.org/wiki/Library_(computing)) appelée [pandas](https://pandas.pydata.org/) pour lire les données de [ce fichier CSV](https://raw.githubusercontent.com/pbeens/Data-Dunkers/main/Data/x-y-data.csv) dans un [DataFrame](https://www.w3schools.com/python/pandas/pandas_dataframes.asp)."
   ]
  },
  {
   "cell_type": "code",
   "execution_count": null,
   "metadata": {},
   "outputs": [],
   "source": [
    "import plotly.express as px\n",
    "import pandas as pd\n",
    "\n",
    "# Read the CSV file into a DataFrame named df\n",
    "url = 'https://raw.githubusercontent.com/pbeens/Data-Dunkers/main/Data/x-y-data.csv'\n",
    "df = pd.read_csv(url)"
   ]
  },
  {
   "cell_type": "markdown",
   "metadata": {},
   "source": [
    "## IPO : Processus\n",
    "\n",
    "Après avoir importé des données, il est important de les examiner pour s'assurer que tout se passe comme prévu. L'une des premières choses à faire est d'utiliser la fonction Pandas `head()` pour regarder rapidement les premières lignes des données."
   ]
  },
  {
   "cell_type": "code",
   "execution_count": null,
   "metadata": {},
   "outputs": [],
   "source": [
    "df.head()"
   ]
  },
  {
   "cell_type": "markdown",
   "metadata": {},
   "source": [
    "Qu'en est-il des rangées inférieures (nous n'examinerons que les deux rangées inférieures) ?"
   ]
  },
  {
   "cell_type": "code",
   "execution_count": null,
   "metadata": {},
   "outputs": [],
   "source": [
    "df.tail(2)"
   ]
  },
  {
   "cell_type": "markdown",
   "metadata": {},
   "source": [
    "Vous verrez que Pandas a inséré un index dans la première colonne. Nous l'utiliserons plus tard.\n",
    "\n",
    "En plus d'utiliser `head()` pour avoir un aperçu rapide des données, les data scientists utilisent souvent `df.columns` pour montrer quelles colonnes sont incluses."
   ]
  },
  {
   "cell_type": "code",
   "execution_count": null,
   "metadata": {},
   "outputs": [],
   "source": [
    "df.columns"
   ]
  },
  {
   "cell_type": "markdown",
   "metadata": {},
   "source": [
    "Il nous indique qu'il y a deux colonnes : 'X' et 'Y'. La casse des lettres est importante, il faut donc toujours y faire attention."
   ]
  },
  {
   "attachments": {},
   "cell_type": "markdown",
   "metadata": {},
   "source": [
    "## IPO : Sortie"
   ]
  },
  {
   "cell_type": "markdown",
   "metadata": {},
   "source": [
    "Et maintenant, traçons-le en utilisant Plotly Express (`px`). Nous procédons de la même manière qu'avec les données internes, mais nous spécifions également la variable dans laquelle le dataframe est stocké (`df`)."
   ]
  },
  {
   "cell_type": "code",
   "execution_count": null,
   "metadata": {},
   "outputs": [],
   "source": [
    "px.line(df, x='X', y='Y', title='Data from a CSV file')"
   ]
  },
  {
   "cell_type": "markdown",
   "metadata": {},
   "source": [
    "Une autre façon de créer un graphique est de le stocker dans une variable et de l'afficher."
   ]
  },
  {
   "cell_type": "code",
   "execution_count": null,
   "metadata": {},
   "outputs": [],
   "source": [
    "fig = px.line(df, x='X', y='Y', title='Data from a CSV file')\n",
    "fig.show()"
   ]
  },
  {
   "attachments": {},
   "cell_type": "markdown",
   "metadata": {},
   "source": [
    "Si l'on met tout cela bout à bout, on obtient"
   ]
  },
  {
   "cell_type": "code",
   "execution_count": null,
   "metadata": {},
   "outputs": [],
   "source": [
    "# Setup\n",
    "import plotly.express as px\n",
    "import pandas as pd\n",
    "\n",
    "# Input\n",
    "url = 'https://raw.githubusercontent.com/pbeens/Data-Dunkers/main/Data/x-y-data.csv'\n",
    "df = pd.read_csv(url)\n",
    "\n",
    "# Process \n",
    "fig = px.line(data_frame=df, x='X', y='Y', title='Data from a CSV file')\n",
    "\n",
    "# Output\n",
    "fig.show()"
   ]
  },
  {
   "cell_type": "markdown",
   "metadata": {},
   "source": [
    "## Et si nous voulions changer les noms des colonnes ?"
   ]
  },
  {
   "cell_type": "markdown",
   "metadata": {},
   "source": [
    "S'il n'y a que quelques colonnes, vous pouvez simplement les réaffecter comme suit :"
   ]
  },
  {
   "cell_type": "code",
   "execution_count": null,
   "metadata": {},
   "outputs": [],
   "source": [
    "df.columns = ['X Value', 'X^2']\n",
    "\n",
    "df.columns"
   ]
  },
  {
   "cell_type": "markdown",
   "metadata": {},
   "source": [
    "### Supplémentaire\n",
    "\n",
    "Si votre DataFrame contient de nombreuses colonnes et que vous ne devez en renommer que quelques-unes, vous pouvez le faire efficacement en utilisant Python [*dictionaries*](https://www.w3schools.com/python/python_dictionaries.asp). Cette méthode vous permet de spécifier uniquement les colonnes que vous souhaitez renommer sans affecter les autres."
   ]
  },
  {
   "cell_type": "code",
   "execution_count": null,
   "metadata": {},
   "outputs": [],
   "source": [
    "df = df.rename(columns={'X Value': 'X', 'X^2': 'Y'})\n",
    "\n",
    "df.columns"
   ]
  },
  {
   "cell_type": "markdown",
   "metadata": {},
   "source": [
    "## Exercice"
   ]
  },
  {
   "cell_type": "markdown",
   "metadata": {},
   "source": [
    "En utilisant le code ci-dessus comme exemple, utilisez les données ci-dessous pour tracer les buts marqués par Pascal Siakam au cours de sa carrière chez les Raptors."
   ]
  },
  {
   "cell_type": "code",
   "execution_count": null,
   "metadata": {},
   "outputs": [],
   "source": [
    "url = 'https://raw.githubusercontent.com/Data-Dunkers/data-dunkers-modules/main/data-dunkers/Data/example.csv'\n",
    "\n"
   ]
  },
  {
   "cell_type": "markdown",
   "metadata": {},
   "source": [
    "---\n",
    "Dans la prochaine leçon, nous obtiendrons nos données à partir d'un fichier [Excel](data-from-excel.ipynb).\n",
    "\n",
    "---\n",
    "Retour à [Leçons](https://github.com/Data-Dunkers/lessons/blob/main/lessons.ipynb)"
   ]
  }
 ],
 "metadata": {
  "kernelspec": {
   "display_name": ".venv",
   "language": "python",
   "name": "python3"
  },
  "language_info": {
   "codemirror_mode": {
    "name": "ipython",
    "version": 3
   },
   "file_extension": ".py",
   "mimetype": "text/x-python",
   "name": "python",
   "nbconvert_exporter": "python",
   "pygments_lexer": "ipython3",
   "version": "3.11.4"
  }
 },
 "nbformat": 4,
 "nbformat_minor": 2
}
