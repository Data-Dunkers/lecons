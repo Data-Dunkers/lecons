{
 "cells": [
  {
   "cell_type": "markdown",
   "metadata": {},
   "source": [
    "![Data Dunkers Banner](https://github.com/Data-Dunkers/lessons/blob/main/images/top-banner.jpg?raw=true)\n",
    "\n",
    "<a href=\"https://hub.callysto.ca/jupyter/hub/user-redirect/git-pull?repo=https%3A%2F%2Fgithub.com%2Fdata-dunkers%2Flessons&branch=main&subPath=data-new-columns.ipynb&depth=1\" target=\"_parent\"><img src=\"https://raw.githubusercontent.com/Data-Dunkers/lessons/main/images/open-in-callysto-button.svg?sanitize=true\" width=\"123\" height=\"24\" alt=\"Open in Callysto\"/></a>\n",
    "<a href=\"https://colab.research.google.com/github/data-dunkers/lessons/blob/main/data-new-columns.ipynb\" target=\"_parent\"><img src=\"https://raw.githubusercontent.com/Data-Dunkers/lessons/main/images/open-in-colab-button.svg?sanitize=true\" width=\"123\" height=\"24\" alt=\"Open in Colab\"/></a>"
   ]
  },
  {
   "attachments": {},
   "cell_type": "markdown",
   "metadata": {},
   "source": [
    "# Leçon de Data Dunkers : Ajouter de nouvelles colonnes"
   ]
  },
  {
   "cell_type": "markdown",
   "metadata": {},
   "source": [
    "Le cahier d'activités correspondant à ce cahier de leçons est disponible [ici] (https://github.com/Data-Dunkers/activities/blob/main/data-new-columns.ipynb)."
   ]
  },
  {
   "cell_type": "markdown",
   "metadata": {},
   "source": [
    "## Objectifs"
   ]
  },
  {
   "cell_type": "markdown",
   "metadata": {},
   "source": [
    "À la fin de cette leçon, les élèves seront capables de :\n",
    "- d'ajouter de nouvelles colonnes à un ensemble de données en utilisant des valeurs calculées.\n",
    "    - Exemple :  Créer une nouvelle colonne appelée \"Moyenne des tirs (%)\" en calculant la moyenne du \"Pourcentage de buts (FG%)\" et du \"Pourcentage de lancers francs (FT%)\" pour chaque joueur.\n",
    "- Appliquer des opérations mathématiques aux colonnes du DataFrame pour créer de nouveaux points de données significatifs.\n",
    "    - Exemple :  Multiplier \"Jeux joués (G)\" par \"Minutes jouées par match (MP)\" pour créer une nouvelle colonne représentant le nombre total de minutes jouées.\n",
    "- Utiliser les arrondis et d'autres techniques de formatage pour présenter les données de manière claire et précise.\n",
    "    - Exemple :  Arrondir la colonne \"Moyenne des tirs (%)\" à une décimale pour une meilleure lisibilité."
   ]
  },
  {
   "cell_type": "markdown",
   "metadata": {},
   "source": [
    "## Introduction"
   ]
  },
  {
   "cell_type": "markdown",
   "metadata": {},
   "source": [
    "Pour cette leçon, nous utiliserons un fichier de données Raptors nommé [raptors-2023.csv] (https://raw.githubusercontent.com/Data-Dunkers/data-dunkers-modules/main/data-dunkers/Data/raptors-2023.csv).\n",
    "\n",
    "Pour votre référence, voici les noms de tous les champs de données :\n",
    "\n",
    "| Nom du champ | Définition | Nom du champ | Définition |\n",
    "| --- | --- | --- | --- |\n",
    "| Age | Age du joueur | AST | Assists |\n",
    "| BLK | Blocs | DRB | Rebonds défensifs |\n",
    "| Pourcentage de réussite - eFG% | Pourcentage de réussite - eFG% | Pourcentage de réussite - eFG% | Pourcentage de réussite - eFG% | Pourcentage de réussite\n",
    "FG% | Pourcentage de réussite au tir au but | FGA | Tentatives de tir au but | FT | Lancers francs réussis | FG% | Pourcentage de réussite au tir au but\n",
    "FG% | Pourcentage de réussite aux lancers francs | FT% | Pourcentage de réussite aux lancers francs | FT% | Pourcentage de réussite aux lancers francs\n",
    "| FTA | Tentatives de lancers francs | G | Jeux joués | GS | Jeux commencés | Ligues\n",
    "| GS - Matchs commencés - Lg - Ligue - M - Minutes jouées - ORB - Minutes jouées - ORB - Minutes jouées - ORB - Minutes jouées\n",
    "| MP | Minutes jouées | ORB | Rebonds offensifs | PF | Fautes personnelles | Joueur\n",
    "| PF | Fautes personnelles | Joueur | Nom du joueur |\n",
    "| Joueur - Nom du joueur - Poste - Position joué - PTS - Points marqués - Saison - Année de la saison - STL\n",
    "| Saison - Année de la saison - STL - Steals - Fautes personnelles.\n",
    "| Tm - Abréviation de l'équipe - TOV - Turnovers - Abréviation de l'équipe - TRB - Rebonds totaux - Tm - Rebonds totaux\n",
    "| Tm | Abréviation de l'équipe | TOV | Turnovers | TRB | Total rebounds | 2P | Two-point field goals made |\n",
    "2PA | Tentatives de tir au but à deux points | 2P% | Pourcentage de tir au but à deux points | 3P | Tirs au but à trois points\n",
    "3P% | Pourcentage de réussite au tir à deux points | 3P% | Pourcentage de réussite au tir à trois points | 3P% | Pourcentage de réussite au tir à trois points\n",
    "| 3P% | Pourcentage de buts à trois points | | 3P% | Pourcentage de buts à trois points | | 3P% | Pourcentage de buts à trois points"
   ]
  },
  {
   "cell_type": "code",
   "execution_count": null,
   "metadata": {},
   "outputs": [],
   "source": [
    "import pandas as pd\n",
    "\n",
    "url = 'https://raw.githubusercontent.com/Data-Dunkers/data-dunkers-modules/main/data-dunkers/Data/raptors-2023.csv'\n",
    "raptors_df = pd.read_csv(url)\n",
    "\n",
    "raptors_df"
   ]
  },
  {
   "cell_type": "markdown",
   "metadata": {},
   "source": [
    "Créons une nouvelle colonne qui est la moyenne du pourcentage de buts marqués (`'FG%'') et du pourcentage de lancers francs (`'FT%'').\n",
    "\n",
    "Le code calcule la moyenne du pourcentage de buts marqués et du pourcentage de lancers francs, puis la multiplie par 100 pour la convertir en pourcentage. Cette nouvelle valeur est ajoutée dans une nouvelle colonne nommée \"Moyenne des tirs (%)\"."
   ]
  },
  {
   "cell_type": "code",
   "execution_count": null,
   "metadata": {},
   "outputs": [],
   "source": [
    "raptors_df['Shot Average (%)'] = (raptors_df['FG%'] + raptors_df['FT%']) / 2 * 100\n",
    "\n",
    "# Display the columns 'Player', 'FG%', 'FT%', and 'Shot Average (%)'\n",
    "raptors_df[['Player', 'FG%', 'FT%', 'Shot Average (%)']]"
   ]
  },
  {
   "cell_type": "markdown",
   "metadata": {},
   "source": [
    "Arrondissons cette colonne pour qu'elle n'ait qu'une seule décimale, en utilisant `round(1)`. Notez que cette technique écrase la colonne avec les données nouvellement arrondies."
   ]
  },
  {
   "cell_type": "code",
   "execution_count": null,
   "metadata": {},
   "outputs": [],
   "source": [
    "raptors_df['Shot Average (%)'] = raptors_df['Shot Average (%)'].round(1)\n",
    "\n",
    "# Display the columns 'Player', 'FG%', 'FT%', and 'Shot Average (%)'\n",
    "raptors_df[['Player', 'FG%', 'FT%', 'Shot Average (%)']]"
   ]
  },
  {
   "cell_type": "markdown",
   "metadata": {},
   "source": [
    "## Exercice"
   ]
  },
  {
   "cell_type": "markdown",
   "metadata": {},
   "source": [
    "Créez une nouvelle colonne qui correspond à Jeux (`'G'`) multiplié par Minutes jouées par match (`'MP'`). Utilisez le symbole * pour la multiplication. Arrondissez à la première décimale.\n",
    "\n",
    "Comment pourriez-vous appeler cette nouvelle colonne ?\n",
    "\n",
    "Affichez les données de manière à ce que seuls les 10 premiers joueurs apparaissent."
   ]
  },
  {
   "cell_type": "code",
   "execution_count": null,
   "metadata": {},
   "outputs": [],
   "source": [
    "# Write your code here\n"
   ]
  },
  {
   "cell_type": "markdown",
   "metadata": {},
   "source": [
    "---\n",
    "*Report issues or give us feedback about this notebook [here](https://docs.google.com/forms/d/e/1FAIpQLSdMRX2hPqZyD8-argFJXxB3ABQdLk3aUH1CAfmMEtcFAlWzCw/viewform?usp=pp_url&entry.1771525592=Module%20Resources%20%28the%20Jupyter%20notebooks%2C%20PPTS%20or%20additional%20resources%29&entry.1364186163=Adding%20New%20Columns).*\n",
    "\n",
    "---\n",
    "Retour à [Leçons](https://github.com/Data-Dunkers/lessons/blob/main/lessons.ipynb)\n",
    "\n",
    "---"
   ]
  }
 ],
 "metadata": {
  "kernelspec": {
   "display_name": ".venv",
   "language": "python",
   "name": "python3"
  },
  "language_info": {
   "codemirror_mode": {
    "name": "ipython",
    "version": 3
   },
   "file_extension": ".py",
   "mimetype": "text/x-python",
   "name": "python",
   "nbconvert_exporter": "python",
   "pygments_lexer": "ipython3",
   "version": "3.11.4"
  }
 },
 "nbformat": 4,
 "nbformat_minor": 2
}
