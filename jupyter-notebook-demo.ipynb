{
 "cells": [
  {
   "cell_type": "markdown",
   "metadata": {},
   "source": [
    "![Data Dunkers Banner](https://github.com/Data-Dunkers/lessons/blob/main/images/top-banner.jpg?raw=true)\n",
    "\n",
    "<a href=\"https://hub.callysto.ca/jupyter/hub/user-redirect/git-pull?repo=https%3A%2F%2Fgithub.com%2Fdata-dunkers%2Flessons&branch=main&subPath=jupyter-notebook-demo.ipynb&depth=1\" target=\"_parent\"><img src=\"https://raw.githubusercontent.com/Data-Dunkers/lessons/main/images/open-in-callysto-button.svg?sanitize=true\" width=\"123\" height=\"24\" alt=\"Open in Callysto\"/></a>\n",
    "<a href=\"https://colab.research.google.com/github/data-dunkers/lessons/blob/main/jupyter-notebook-demo.ipynb\" target=\"_parent\"><img src=\"https://raw.githubusercontent.com/Data-Dunkers/lessons/main/images/open-in-colab-button.svg?sanitize=true\" width=\"123\" height=\"24\" alt=\"Open in Colab\"/></a>"
   ]
  },
  {
   "cell_type": "markdown",
   "metadata": {},
   "source": [
    "# Démonstration de Jupyter Notebook\n",
    "\n",
    "*Un guide pour cette leçon est disponible [ici](Guides/jupyter-notebook-demo-guide.md) ou en [PDF](Guides/jupyter-notebook-demo-guide.pdf) pour téléchargement."
   ]
  },
  {
   "cell_type": "markdown",
   "metadata": {},
   "source": [
    "## Lesson Objectives"
   ]
  },
  {
   "cell_type": "markdown",
   "metadata": {},
   "source": [
    "À la fin de cette leçon, les élèves seront en mesure de :\n",
    "- Comprendre le rôle des carnets Jupyter dans l'exploration des données. *(Exemple : Utiliser un carnet Jupyter pour documenter et analyser des données sur l'historique de la programmation Python et le formatage Markdown.)*\n",
    "- Organiser et présenter des informations de manière efficace à l'aide de Markdown. *(Exemple : Utiliser Markdown pour créer des en-têtes, des listes et des liens dans un Notebook Jupyter afin de structurer un rapport d'analyse de données.)*\n",
    "- Acquérir une expérience pratique de l'exécution et de la visualisation du code de manière interactive. *(Exemple : Exécuter du code Python dans un Notebook Jupyter pour imprimer \"Hello world !\" et voir la sortie immédiatement.)*"
   ]
  },
  {
   "attachments": {},
   "cell_type": "markdown",
   "metadata": {},
   "source": [
    "## Qu'est-ce que les Notebooks Jupyter ?"
   ]
  },
  {
   "cell_type": "markdown",
   "metadata": {},
   "source": [
    "Les Notebooks Jupyter sont des **applications web** qui permettent aux utilisateurs de créer et de partager des documents contenant du code en direct, des équations, des visualisations et du texte narratif.\n",
    "\n",
    "IPython, un prédécesseur de Jupyter, a vu le jour en 2001. En 2011, la première version des Notebooks pour **IPython** a été publiée, et en 2014, un projet dérivé appelé Project Jupyter a été introduit.\n",
    "\n",
    "Le nom Jupyter est un acronyme indirect des trois principaux langages pour lesquels il a été conçu : [JUlia](https://julialang.org/), [PYThon](https://www.python.org/), et [R](https://www.r-project.org/).\n",
    "\n",
    "*(Pour plus de détails sur l'histoire d'IPython et sa transition vers Jupyter, voir [ce document](https://docs.google.com/document/d/14l4WUZ4eV9ulNaIpgJ4Njk0O-F_jIJZoqqkIaxHs_CA/edit?usp=sharing))*."
   ]
  },
  {
   "attachments": {},
   "cell_type": "markdown",
   "metadata": {},
   "source": [
    "## Exemples de Markdown"
   ]
  },
  {
   "cell_type": "markdown",
   "metadata": {},
   "source": [
    "Il s'agit d'une cellule (ou d'un bloc) Markdown.\n",
    "\n",
    "Le texte peut être en **gras**, *italique*, ~~struck out~~, ou `monospaced`.\n",
    "\n",
    "*Le texte Markdown pour cette phrase ressemble à ceci:*\n",
    "\n",
    "```\n",
    "Le texte peut être en **gras**, *italique*, ~~struck out~~, ou `monospaced`.\n",
    "```\n",
    "---\n",
    "\n",
    "Vous double-cliquez sur une cellule pour la modifier.\n",
    "\n",
    "---\n",
    "\n",
    "> Le texte peut être indenté.\n",
    "\n",
    "```\n",
    "> Le texte peut être indenté.\n",
    "```\n",
    "---\n",
    "\n",
    "On peut avoir des blocs de code en markdown :\n",
    "\n",
    "```\n",
    "name = 'Peter'\n",
    "print(name)\n",
    "```\n",
    "*(Encadrez ce que vous voulez dans un bloc de code markdown à l'intérieur d'un ensemble de 3 crochets (```))*.\n",
    "\n",
    "---\n",
    "\n",
    "Nous pouvons avoir des liens, comme celui-ci : [Google](https://www.google.com/) qui sont formatés comme ceci :\n",
    "\n",
    "```\n",
    "[Google](https://www.google.com/)\n",
    "```\n",
    "---\n",
    "\n",
    "Nous pouvons avoir des en-têtes, ce qui rend notre Jupyter Notebook plus proche d'un livre :\n",
    "\n",
    "# En-tête niveau 1\n",
    "\n",
    "```\n",
    "(# En-tête niveau 1)\n",
    "```\n",
    "\n",
    "## Niveau de rubrique 2\n",
    "\n",
    "### Titre de niveau 3\n",
    "\n",
    "#### Titre de niveau 4\n",
    "\n",
    "##### Titre de niveau 5\n",
    "\n",
    "###### Niveau d'en-tête 6\n",
    "\n",
    "---\n",
    "\n",
    "N'oublions pas les images !\n",
    "\n",
    "![Logo Python](https://raw.githubusercontent.com/pbeens/Data-Dunkers/main/Images/python2.5.png)\n",
    "\n",
    "```\n",
    "( ![Logo Python](https://raw.githubusercontent.com/pbeens/Data-Dunkers/main/Images/python2.5.png))\n",
    "```\n",
    "---\n",
    "\n",
    "Et les tableaux...\n",
    "\n",
    "| X | Y |\n",
    "| :-- : | :-- : \n",
    "| 0 | 0 |\n",
    "| 1 | 1 |\n",
    "| 2 | 4 |\n",
    "| 3 | 9 |\n",
    "\n",
    "<br>\n",
    "\n",
    "```\n",
    "| X | Y |\n",
    "| :-- : | :-- : \n",
    "| 0 | 0 |\n",
    "| 1 | 1 |\n",
    "| 2 | 4 |\n",
    "| 3 | 9 |\n",
    "```\n",
    "\n",
    "*(Voir ce [fichier](markdown-tables.ipynb) pour plus de détails sur les tables Markdown.)*\n",
    "\n",
    "---\n",
    "\n",
    "Et si vous voulez une ligne ? (`---`)\n",
    "\n",
    "---"
   ]
  },
  {
   "cell_type": "markdown",
   "metadata": {},
   "source": [
    "...ou une équation ?\n",
    "\n",
    "```\n",
    "$$\n",
    "a^2 + b^2 = c^2\n",
    "$$\n",
    "```\n",
    "$$\n",
    "a^2 + b^2 = c^2\n",
    "$$"
   ]
  },
  {
   "cell_type": "markdown",
   "metadata": {},
   "source": [
    "Et si vous voulez que l'équation soit en ligne ?\n",
    "\n",
    "```\n",
    "La formule $a^2 + b^2 = c^2$ est tirée du théorème de Pythagore.\n",
    "```\n",
    "\n",
    "La formule $a^2 + b^2 = c^2$ est issue du théorème de Pythagore."
   ]
  },
  {
   "attachments": {},
   "cell_type": "markdown",
   "metadata": {},
   "source": [
    "## Cellules de code"
   ]
  },
  {
   "cell_type": "markdown",
   "metadata": {},
   "source": [
    "Il s'agit de cellules de code, où nous pouvons exécuter du code **Python** :"
   ]
  },
  {
   "cell_type": "code",
   "execution_count": null,
   "metadata": {},
   "outputs": [],
   "source": [
    "# Print the string 'Hello world!'\n",
    "print('Hello world!')"
   ]
  },
  {
   "cell_type": "code",
   "execution_count": null,
   "metadata": {},
   "outputs": [],
   "source": [
    "# Assign the string 'Peter' to the variable name\n",
    "name = 'Peter'\n",
    "\n",
    "# Print the string 'Hello' followed by the value of the variable name\n",
    "print('Hello', name)"
   ]
  },
  {
   "cell_type": "markdown",
   "metadata": {},
   "source": [
    "---\n",
    "*Report issues or give us feedback about this notebook [here](https://docs.google.com/forms/d/e/1FAIpQLSdMRX2hPqZyD8-argFJXxB3ABQdLk3aUH1CAfmMEtcFAlWzCw/viewform?usp=pp_url&entry.1771525592=Module%20Resources%20%28the%20Jupyter%20notebooks%2C%20PPTS%20or%20additional%20resources%29&entry.1364186163=Jupyter%20Notebook%20Demo).*\n",
    "\n",
    "---\n",
    "Retour à [Leçons](https://github.com/pbeens/Data-Dunkers/blob/main/Lessons.ipynb)"
   ]
  }
 ],
 "metadata": {
  "kernelspec": {
   "display_name": ".venv",
   "language": "python",
   "name": "python3"
  },
  "language_info": {
   "codemirror_mode": {
    "name": "ipython",
    "version": 3
   },
   "file_extension": ".py",
   "mimetype": "text/x-python",
   "name": "python",
   "nbconvert_exporter": "python",
   "pygments_lexer": "ipython3",
   "version": "3.10.5"
  }
 },
 "nbformat": 4,
 "nbformat_minor": 2
}
