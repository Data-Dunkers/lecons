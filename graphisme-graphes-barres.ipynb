{
 "cells": [
  {
   "cell_type": "markdown",
   "metadata": {},
   "source": [
    "![Data Dunkers Banner](https://github.com/Data-Dunkers/lessons/blob/main/images/top-banner.jpg?raw=true)\n",
    "\n",
    "<a href=\"https://hub.callysto.ca/jupyter/hub/user-redirect/git-pull?repo=https%3A%2F%2Fgithub.com%2Fdata-dunkers%2Flessons&branch=main&subPath=graphing-bar-graphs.ipynb&depth=1\" target=\"_parent\"><img src=\"https://raw.githubusercontent.com/Data-Dunkers/lessons/main/images/open-in-callysto-button.svg?sanitize=true\" width=\"123\" height=\"24\" alt=\"Open in Callysto\"/></a>\n",
    "<a href=\"https://colab.research.google.com/github/data-dunkers/lessons/blob/main/graphing-bar-graphs.ipynb\" target=\"_parent\"><img src=\"https://raw.githubusercontent.com/Data-Dunkers/lessons/main/images/open-in-colab-button.svg?sanitize=true\" width=\"123\" height=\"24\" alt=\"Open in Colab\"/></a>"
   ]
  },
  {
   "attachments": {},
   "cell_type": "markdown",
   "metadata": {},
   "source": [
    "# Leçon \"Data Dunkers\" : Création de diagrammes à barres"
   ]
  },
  {
   "cell_type": "markdown",
   "metadata": {},
   "source": [
    "Le cahier d'activités correspondant à ce cahier de leçons est disponible [ici] (https://github.com/Data-Dunkers/activities/blob/main/graphing.ipynb)."
   ]
  },
  {
   "cell_type": "markdown",
   "metadata": {},
   "source": [
    "## Objectifs"
   ]
  },
  {
   "cell_type": "markdown",
   "metadata": {},
   "source": [
    "À la fin de cette leçon, les élèves seront capables de :\n",
    "- de créer des diagrammes à barres pour visualiser les principales tendances des données.\n",
    "    - Exemple : Créer un diagramme à barres pour montrer le nombre de buts marqués par Pascal Siakam au cours de chaque saison de la NBA.\n",
    "- D'affiner et de présenter efficacement des données visuelles.\n",
    "    - Exemple : Personnaliser les étiquettes et les couleurs des axes d'un graphique à barres pour en améliorer la lisibilité.\n",
    "- Explorer l'évolution des données dans le temps à l'aide d'outils visuels.\n",
    "    - Exemple : Utiliser un graphique à barres pour visualiser l'évolution des tentatives de tir au but de Pascal Siakam au cours de sa carrière."
   ]
  },
  {
   "attachments": {},
   "cell_type": "markdown",
   "metadata": {},
   "source": [
    "## Importation de données"
   ]
  },
  {
   "cell_type": "markdown",
   "metadata": {},
   "source": [
    "Nous utiliserons la [bibliothèque de code](https://en.wikipedia.org/wiki/Library_(computing)) appelée [pandas](https://pandas.pydata.org/) pour lire les données d'un [fichier CSV](https://en.wikipedia.org/wiki/Comma-separated_values)."
   ]
  },
  {
   "cell_type": "code",
   "execution_count": null,
   "metadata": {},
   "outputs": [],
   "source": [
    "import pandas as pd\n",
    "\n",
    "url = 'https://raw.githubusercontent.com/Data-Dunkers/data-dunkers-modules/main/data-dunkers/Data/Pascal_Siakam.csv'\n",
    "df = pd.read_csv(url)\n",
    "\n",
    "display(df)"
   ]
  },
  {
   "cell_type": "markdown",
   "metadata": {},
   "source": [
    "## Filtrage des données"
   ]
  },
  {
   "cell_type": "markdown",
   "metadata": {},
   "source": [
    "Nous pouvons également utiliser un filtre pour n'inclure que les données jusqu'à la saison 2022-23 incluse (`<=`).\n",
    "\n",
    "Nous afficherons le cadre de données résultant en incluant `df` comme dernière ligne de la cellule."
   ]
  },
  {
   "cell_type": "code",
   "execution_count": null,
   "metadata": {},
   "outputs": [],
   "source": [
    "filter = df['SEASON_ID'] <= '2022-23'\n",
    "df = df[filter]\n",
    "\n",
    "df"
   ]
  },
  {
   "cell_type": "markdown",
   "metadata": {},
   "source": [
    "## Graphisme"
   ]
  },
  {
   "cell_type": "markdown",
   "metadata": {},
   "source": [
    "Nous utiliserons la bibliothèque [Plotly Express] (https://plotly.com/python/plotly-express/) pour créer des graphiques.\n",
    "\n",
    "Pour créer un [graphique à barres](https://plotly.com/python/bar-charts/), nous utiliserons la fonction `px.bar()`, nous lui indiquerons la base de données à utiliser (`df`), et nous préciserons la colonne que nous voulons sur chaque axe. Dans cet exemple, nous représentons les buts marqués (FGM) de Siakam par saison."
   ]
  },
  {
   "cell_type": "code",
   "execution_count": null,
   "metadata": {},
   "outputs": [],
   "source": [
    "import plotly.express as px\n",
    "px.bar(df, x='SEASON_ID', y='FGM')"
   ]
  },
  {
   "cell_type": "markdown",
   "metadata": {},
   "source": [
    "Nous pouvons également ajouter un titre au graphique."
   ]
  },
  {
   "cell_type": "code",
   "execution_count": null,
   "metadata": {},
   "outputs": [],
   "source": [
    "px.bar(df, x='SEASON_ID', y='FGM', title='Siakam Field Goals by Season')"
   ]
  },
  {
   "attachments": {},
   "cell_type": "markdown",
   "metadata": {},
   "source": [
    "### Étiquettes de l'axe"
   ]
  },
  {
   "cell_type": "markdown",
   "metadata": {},
   "source": [
    "Renommons l'axe des ordonnées avec `.update_yaxes(title='Field Goals')`"
   ]
  },
  {
   "cell_type": "code",
   "execution_count": null,
   "metadata": {},
   "outputs": [],
   "source": [
    "px.bar(df, x='SEASON_ID', y='FGM', title='Siakam Field Goals by Season').update_yaxes(title='Field Goals')"
   ]
  },
  {
   "attachments": {},
   "cell_type": "markdown",
   "metadata": {},
   "source": [
    "Comment créer l'étiquette de l'axe des x ? Utilisez la cellule de code ci-dessous pour créer l'étiquette de l'axe des x \"Saison\"."
   ]
  },
  {
   "cell_type": "code",
   "execution_count": null,
   "metadata": {},
   "outputs": [],
   "source": [
    "px.bar(df, x='SEASON_ID', y='FGM', title='Siakam Field Goals by Season').update_yaxes(title='Field Goals')"
   ]
  },
  {
   "attachments": {},
   "cell_type": "markdown",
   "metadata": {},
   "source": [
    "### Graphiques à barres horizontales"
   ]
  },
  {
   "cell_type": "markdown",
   "metadata": {},
   "source": [
    "Si nous préférons un graphique à barres horizontales, nous pouvons utiliser `orientation='h'` et intervertir les colonnes x et y."
   ]
  },
  {
   "cell_type": "code",
   "execution_count": null,
   "metadata": {},
   "outputs": [],
   "source": [
    "px.bar(df, x='FGM', y='SEASON_ID', orientation='h', title='Siakam Field Goals by Season').update_xaxes(title='Field Goals').update_yaxes(title='Season')"
   ]
  },
  {
   "attachments": {},
   "cell_type": "markdown",
   "metadata": {},
   "source": [
    "### Colonnes multiples"
   ]
  },
  {
   "cell_type": "markdown",
   "metadata": {},
   "source": [
    "Si nous voulons inclure plusieurs colonnes sur l'axe des x, nous pouvons utiliser des crochets `[ ]`."
   ]
  },
  {
   "cell_type": "code",
   "execution_count": null,
   "metadata": {},
   "outputs": [],
   "source": [
    "px.bar(df, x='SEASON_ID', y=['FGM', 'FGA'], title='Siakam Field Goals by Season')"
   ]
  },
  {
   "attachments": {},
   "cell_type": "markdown",
   "metadata": {},
   "source": [
    "Vous voyez que par défaut, les barres sont empilées. Nous pouvons utiliser `barmode='group'` pour les mettre côte à côte."
   ]
  },
  {
   "cell_type": "code",
   "execution_count": null,
   "metadata": {},
   "outputs": [],
   "source": [
    "px.bar(df, x='SEASON_ID', y=['FGM', 'FGA'], barmode='group', title='Siakam Field Goals by Season')"
   ]
  },
  {
   "attachments": {},
   "cell_type": "markdown",
   "metadata": {},
   "source": [
    "## Exercice"
   ]
  },
  {
   "cell_type": "markdown",
   "metadata": {},
   "source": [
    "Créez un diagramme à barres avec \"Age\" sur l'axe des x et `['FG_PCT', 'FG2_PCT', 'FG3_PCT']` sur l'axe des y."
   ]
  },
  {
   "cell_type": "code",
   "execution_count": null,
   "metadata": {},
   "outputs": [],
   "source": [
    "px.bar()"
   ]
  },
  {
   "cell_type": "markdown",
   "metadata": {},
   "source": [
    "Quels changements observez-vous dans ces valeurs au fil du temps ?"
   ]
  },
  {
   "cell_type": "markdown",
   "metadata": {},
   "source": [
    "---\n",
    "*Report issues or give us feedback about this notebook [here](https://docs.google.com/forms/d/e/1FAIpQLSdMRX2hPqZyD8-argFJXxB3ABQdLk3aUH1CAfmMEtcFAlWzCw/viewform?usp=pp_url&entry.1771525592=Module%20Resources%20%28the%20Jupyter%20notebooks%2C%20PPTS%20or%20additional%20resources%29&entry.1364186163=Creating%20Bar%20Graphs).*\n",
    "\n",
    "---\n",
    "\n",
    "Retour à [Leçons](https://github.com/Data-Dunkers/lessons/blob/main/lessons.ipynb)"
   ]
  }
 ],
 "metadata": {
  "kernelspec": {
   "display_name": ".venv",
   "language": "python",
   "name": "python3"
  },
  "language_info": {
   "codemirror_mode": {
    "name": "ipython",
    "version": 3
   },
   "file_extension": ".py",
   "mimetype": "text/x-python",
   "name": "python",
   "nbconvert_exporter": "python",
   "pygments_lexer": "ipython3",
   "version": "3.11.9"
  }
 },
 "nbformat": 4,
 "nbformat_minor": 2
}
