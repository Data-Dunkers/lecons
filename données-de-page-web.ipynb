{
 "cells": [
  {
   "cell_type": "markdown",
   "metadata": {},
   "source": [
    "![Data Dunkers Banner](https://github.com/Data-Dunkers/lessons/blob/main/images/top-banner.jpg?raw=true)\n",
    "\n",
    "<a href=\"https://hub.callysto.ca/jupyter/hub/user-redirect/git-pull?repo=https%3A%2F%2Fgithub.com%2Fdata-dunkers%2Flessons&branch=main&subPath=data-from-webpage.ipynb&depth=1\" target=\"_parent\"><img src=\"https://raw.githubusercontent.com/Data-Dunkers/lessons/main/images/open-in-callysto-button.svg?sanitize=true\" width=\"123\" height=\"24\" alt=\"Open in Callysto\"/></a>\n",
    "<a href=\"https://colab.research.google.com/github/data-dunkers/lessons/blob/main/data-from-webpage.ipynb\" target=\"_parent\"><img src=\"https://raw.githubusercontent.com/Data-Dunkers/lessons/main/images/open-in-colab-button.svg?sanitize=true\" width=\"123\" height=\"24\" alt=\"Open in Colab\"/></a>"
   ]
  },
  {
   "attachments": {},
   "cell_type": "markdown",
   "metadata": {},
   "source": [
    "# Leçon \"Data Dunkers\" : Données d'une page Web"
   ]
  },
  {
   "cell_type": "markdown",
   "metadata": {},
   "source": [
    "Le cahier d'activités correspondant à ce cahier de leçons est disponible [ici] (https://github.com/Data-Dunkers/activities/blob/main/data-from-webpage.ipynb)."
   ]
  },
  {
   "cell_type": "markdown",
   "metadata": {},
   "source": [
    "## Objectifs"
   ]
  },
  {
   "cell_type": "markdown",
   "metadata": {},
   "source": [
    "À la fin de cette leçon, les élèves seront capables de :\n",
    "- d'extraire et d'utiliser les données d'une page web.\n",
    "    - Exemple : Extraire un tableau de valeurs X et Y d'une page web et créer un graphique linéaire pour visualiser les données.\n",
    "- Sélectionner et visualiser des données spécifiques à partir de sources Web.\n",
    "    - Exemple : Traiter plusieurs tableaux sur une page web en sélectionnant le bon pour visualiser les données X et Y."
   ]
  },
  {
   "cell_type": "markdown",
   "metadata": {},
   "source": [
    "## Setup"
   ]
  },
  {
   "cell_type": "markdown",
   "metadata": {},
   "source": [
    "Ce premier bloc de code vérifiera si les bibliothèques de code [lxml](https://lxml.de/) et [html5lib](https://pypi.org/project/html5lib/) ont été installées, et le fera si nécessaire."
   ]
  },
  {
   "cell_type": "code",
   "execution_count": null,
   "metadata": {},
   "outputs": [],
   "source": [
    "try:\n",
    "    import lxml\n",
    "except:\n",
    "    !pip install lxml\n",
    "    import lxml\n",
    "\n",
    "try:\n",
    "    import html5lib\n",
    "except:\n",
    "    !pip install html5lib\n",
    "    import html5lib"
   ]
  },
  {
   "attachments": {},
   "cell_type": "markdown",
   "metadata": {},
   "source": [
    "## Introduction"
   ]
  },
  {
   "attachments": {},
   "cell_type": "markdown",
   "metadata": {},
   "source": [
    "Jusqu'à présent, nous avons vu comment obtenir des données dans le carnet Jupyter lui-même, à partir d'un fichier CSV et d'un fichier Excel.\n",
    "\n",
    "Dans cette leçon, nous obtiendrons des données à partir d'une page web."
   ]
  },
  {
   "attachments": {},
   "cell_type": "markdown",
   "metadata": {},
   "source": [
    "## Données d'un tableau sur une page web"
   ]
  },
  {
   "attachments": {},
   "cell_type": "markdown",
   "metadata": {},
   "source": [
    "Au lieu de `read_csv()` ou `read_excel()`, nous utilisons `read_html()`, mais une différence importante est que nous devons spécifier quelle [table](https://www.w3schools.com/html/html_tables.asp) nous voulons utiliser.\n",
    "\n",
    "Lorsque Pandas lit les tables d'une page web, il les indexe en commençant par zéro."
   ]
  },
  {
   "cell_type": "code",
   "execution_count": null,
   "metadata": {},
   "outputs": [],
   "source": [
    "import plotly.express as px\n",
    "import pandas as pd\n",
    "\n",
    "# Read the html file into a DataFrame named df\n",
    "url = 'https://raw.githubusercontent.com/Data-Dunkers/data-dunkers-modules/main/data-dunkers/Data/x-y-data.html'\n",
    "df = pd.read_html(url)[0]  # Index 0 is the first table\n",
    "\n",
    "px.line(data_frame=df, x='X', y='Y', title='Data from a table on a webpage')"
   ]
  },
  {
   "cell_type": "markdown",
   "metadata": {},
   "source": [
    "Remarque : si vous avez plusieurs lignes pour les en-têtes de colonne, consultez **Réparation d'un multi-index** dans cette [fiche de vérification] (https://github.com/Data-Dunkers/lessons/blob/main/cheatsheet.md#fixing-a-multi-index)."
   ]
  },
  {
   "cell_type": "markdown",
   "metadata": {},
   "source": [
    "## Exercice"
   ]
  },
  {
   "cell_type": "markdown",
   "metadata": {},
   "source": [
    "En utilisant le code ci-dessus comme exemple, utilisez les données ci-dessous pour tracer les buts marqués par Pascal Siakam au cours de sa carrière chez les Raptors."
   ]
  },
  {
   "cell_type": "code",
   "execution_count": null,
   "metadata": {},
   "outputs": [],
   "source": [
    "# Setup\n",
    "\n",
    "\n",
    "# Input\n",
    "url = 'https://raw.githubusercontent.com/Data-Dunkers/data/main/NBA/Pascal_Siakam.html'\n",
    "\n",
    "\n",
    "# Process\n",
    "\n",
    "\n",
    "# Output"
   ]
  },
  {
   "cell_type": "markdown",
   "metadata": {},
   "source": [
    "---\n",
    "Dans notre prochaine démonstration, nous obtiendrons nos données à partir d'une [feuille Google] (data-from-google-sheet.ipynb).\n",
    "\n",
    "---\n",
    "Retour à [Leçons](https://github.com/Data-Dunkers/lessons/blob/main/lessons.ipynb)"
   ]
  }
 ],
 "metadata": {
  "kernelspec": {
   "display_name": ".venv",
   "language": "python",
   "name": "python3"
  },
  "language_info": {
   "codemirror_mode": {
    "name": "ipython",
    "version": 3
   },
   "file_extension": ".py",
   "mimetype": "text/x-python",
   "name": "python",
   "nbconvert_exporter": "python",
   "pygments_lexer": "ipython3",
   "version": "3.11.9"
  }
 },
 "nbformat": 4,
 "nbformat_minor": 2
}
