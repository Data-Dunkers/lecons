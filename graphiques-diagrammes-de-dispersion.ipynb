{
 "cells": [
  {
   "cell_type": "markdown",
   "metadata": {},
   "source": [
    "![Data Dunkers Banner](https://github.com/Data-Dunkers/lessons/blob/main/images/top-banner.jpg?raw=true)\n",
    "\n",
    "<a href=\"https://hub.callysto.ca/jupyter/hub/user-redirect/git-pull?repo=https%3A%2F%2Fgithub.com%2Fdata-dunkers%2Flessons&branch=main&subPath=graphing-scatter-plots.ipynb&depth=1\" target=\"_parent\"><img src=\"https://raw.githubusercontent.com/Data-Dunkers/lessons/main/images/open-in-callysto-button.svg?sanitize=true\" width=\"123\" height=\"24\" alt=\"Open in Callysto\"/></a>\n",
    "<a href=\"https://colab.research.google.com/github/data-dunkers/lessons/blob/main/graphing-scatter-plots.ipynb\" target=\"_parent\"><img src=\"https://raw.githubusercontent.com/Data-Dunkers/lessons/main/images/open-in-colab-button.svg?sanitize=true\" width=\"123\" height=\"24\" alt=\"Open in Colab\"/></a>"
   ]
  },
  {
   "attachments": {},
   "cell_type": "markdown",
   "metadata": {},
   "source": [
    "# Leçon \"Data Dunkers\" : Création de graphiques linéaires et de diagrammes de dispersion"
   ]
  },
  {
   "cell_type": "markdown",
   "metadata": {},
   "source": [
    "Le cahier d'activités correspondant à ce cahier de leçons est disponible [ici] (https://github.com/Data-Dunkers/activities/blob/main/graphing.ipynb)."
   ]
  },
  {
   "cell_type": "markdown",
   "metadata": {},
   "source": [
    "## Objectifs"
   ]
  },
  {
   "cell_type": "markdown",
   "metadata": {},
   "source": [
    "À la fin de cette leçon, les élèves seront capables de :\n",
    "- d'analyser les relations entre les variables à l'aide de diagrammes de dispersion.\n",
    "    - Exemple : Créer un diagramme de dispersion pour examiner la relation entre les buts tentés et les buts marqués par Pascal Siakam.\n",
    "- de personnaliser et d'améliorer l'analyse visuelle des données.\n",
    "    - Exemple : Personnaliser un diagramme de dispersion en ajoutant des titres, des étiquettes et en ajustant la taille des points pour plus de clarté.\n",
    "- Explorer les tendances et les modèles de données à l'aide d'outils visuels tels que les lignes de tendance.\n",
    "    - Exemple : Ajoutez une ligne de tendance à un graphique en nuage de points pour analyser l'évolution de l'efficacité des tirs au but de Pascal Siakam en fonction du nombre de tentatives."
   ]
  },
  {
   "attachments": {},
   "cell_type": "markdown",
   "metadata": {},
   "source": [
    "## Obtenir et filtrer des données"
   ]
  },
  {
   "cell_type": "markdown",
   "metadata": {},
   "source": [
    "Nous allons continuer à importer et à traiter les données de Pascal Siakam comme nous l'avons fait jusqu'à présent."
   ]
  },
  {
   "cell_type": "code",
   "execution_count": null,
   "metadata": {},
   "outputs": [],
   "source": [
    "import pandas as pd\n",
    "url = 'https://raw.githubusercontent.com/Data-Dunkers/data/main/NBA/Pascal_Siakam.csv'\n",
    "df = pd.read_csv(url)\n",
    "df = df[df['SEASON_ID'] <= '2022-23']\n",
    "df"
   ]
  },
  {
   "cell_type": "markdown",
   "metadata": {},
   "source": [
    "## Graphiques en ligne"
   ]
  },
  {
   "cell_type": "markdown",
   "metadata": {},
   "source": [
    "Précédemment, nous avons utilisé `px.bar()` pour créer des graphiques en barres avec Plotly Express, nous pouvons créer des [graphiques linéaires] (https://plotly.com/python/line-charts/) avec `px.line()`."
   ]
  },
  {
   "cell_type": "code",
   "execution_count": null,
   "metadata": {},
   "outputs": [],
   "source": [
    "import plotly.express as px\n",
    "px.line(df, \n",
    "        x='SEASON_ID', \n",
    "        y='FGM', \n",
    "        title='Siakam Field Goals by Season')"
   ]
  },
  {
   "attachments": {},
   "cell_type": "markdown",
   "metadata": {},
   "source": [
    "## Diagrammes de dispersion"
   ]
  },
  {
   "cell_type": "markdown",
   "metadata": {},
   "source": [
    "Les [diagrammes de dispersion] (https://plotly.com/python/line-and-scatter/) sont similaires aux graphiques linéaires, sans les lignes de connexion."
   ]
  },
  {
   "cell_type": "code",
   "execution_count": null,
   "metadata": {},
   "outputs": [],
   "source": [
    "px.scatter(df, \n",
    "           x='FGA', \n",
    "           y='FGM', \n",
    "           title='Siakam Field Goals versus Field Goal Attempts')"
   ]
  },
  {
   "cell_type": "markdown",
   "metadata": {},
   "source": [
    "## Affichage d'autres données"
   ]
  },
  {
   "cell_type": "markdown",
   "metadata": {},
   "source": [
    "Nous pouvons **colorer** les points en fonction d'une autre valeur de l'ensemble de données. Plaçons des valeurs numériques sur les axes et colorons les points en fonction de la saison."
   ]
  },
  {
   "cell_type": "code",
   "execution_count": null,
   "metadata": {},
   "outputs": [],
   "source": [
    "px.scatter(df, \n",
    "           x='FGA', \n",
    "           y='FGM', \n",
    "           title='Siakam Field Goals Made versus Field Goal Attempts', \n",
    "           color='SEASON_ID')"
   ]
  },
  {
   "cell_type": "markdown",
   "metadata": {},
   "source": [
    "Nous pouvons également modifier la **taille** des points de données pour qu'elle soit proportionnelle à l'une des colonnes de données."
   ]
  },
  {
   "cell_type": "code",
   "execution_count": null,
   "metadata": {},
   "outputs": [],
   "source": [
    "px.scatter(df, \n",
    "           x='FGA', \n",
    "           y='FGM', \n",
    "           title='Siakam Field Goals versus Field Goal Attempts', \n",
    "           color='SEASON_ID', \n",
    "           size='AST')"
   ]
  },
  {
   "cell_type": "markdown",
   "metadata": {},
   "source": [
    "## Trendlines"
   ]
  },
  {
   "cell_type": "markdown",
   "metadata": {},
   "source": [
    "Pour nous aider à tirer des conclusions, nous pouvons ajouter une ligne de meilleur ajustement, que nous appelons une ligne de tendance. Nous utilisons souvent la méthode des [moindres carrés ordinaires] (https://en.wikipedia.org/wiki/Ordinary_least_squares) (MCO) pour calculer les paramètres de la ligne de tendance."
   ]
  },
  {
   "cell_type": "code",
   "execution_count": null,
   "metadata": {},
   "outputs": [],
   "source": [
    "px.scatter(df, \n",
    "           x='FGA', \n",
    "           y='FGM', \n",
    "           title='Siakam Field Goals Made versus Field Goal Attempts', \n",
    "           trendline='ols')"
   ]
  },
  {
   "attachments": {},
   "cell_type": "markdown",
   "metadata": {},
   "source": [
    "## Exercice"
   ]
  },
  {
   "cell_type": "markdown",
   "metadata": {},
   "source": [
    "Créez un diagramme de dispersion avec les passes décisives par match (`'AST'`) sur l'axe des x, les points par match (`'PTS'`) sur l'axe des y, et `color='AGE'`. Incluez une ligne de tendance."
   ]
  },
  {
   "cell_type": "code",
   "execution_count": null,
   "metadata": {},
   "outputs": [],
   "source": [
    "# write your code here\n"
   ]
  },
  {
   "cell_type": "markdown",
   "metadata": {},
   "source": [
    "---\n",
    "*Report issues or give us feedback about this notebook [here](https://docs.google.com/forms/d/e/1FAIpQLSdMRX2hPqZyD8-argFJXxB3ABQdLk3aUH1CAfmMEtcFAlWzCw/viewform?usp=pp_url&entry.1771525592=Module%20Resources%20%28the%20Jupyter%20notebooks%2C%20PPTS%20or%20additional%20resources%29&entry.1364186163=Creating%20Scatter%20Plots).*\n",
    "\n",
    "---\n",
    "Retour à [Leçons](https://github.com/Data-Dunkers/lessons/blob/main/lessons.ipynb)"
   ]
  }
 ],
 "metadata": {
  "kernelspec": {
   "display_name": ".venv",
   "language": "python",
   "name": "python3"
  },
  "language_info": {
   "codemirror_mode": {
    "name": "ipython",
    "version": 3
   },
   "file_extension": ".py",
   "mimetype": "text/x-python",
   "name": "python",
   "nbconvert_exporter": "python",
   "pygments_lexer": "ipython3",
   "version": "3.11.4"
  }
 },
 "nbformat": 4,
 "nbformat_minor": 2
}
