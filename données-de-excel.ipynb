{
 "cells": [
  {
   "cell_type": "markdown",
   "metadata": {},
   "source": [
    "![Data Dunkers Banner](https://github.com/Data-Dunkers/lessons/blob/main/images/top-banner.jpg?raw=true)\n",
    "\n",
    "<a href=\"https://hub.callysto.ca/jupyter/hub/user-redirect/git-pull?repo=https%3A%2F%2Fgithub.com%2Fdata-dunkers%2Flessons&branch=main&subPath=data-from-excel.ipynb&depth=1\" target=\"_parent\"><img src=\"https://raw.githubusercontent.com/Data-Dunkers/lessons/main/images/open-in-callysto-button.svg?sanitize=true\" width=\"123\" height=\"24\" alt=\"Open in Callysto\"/></a>\n",
    "<a href=\"https://colab.research.google.com/github/data-dunkers/lessons/blob/main/data-from-excel.ipynb\" target=\"_parent\"><img src=\"https://raw.githubusercontent.com/Data-Dunkers/lessons/main/images/open-in-colab-button.svg?sanitize=true\" width=\"123\" height=\"24\" alt=\"Open in Colab\"/></a>"
   ]
  },
  {
   "attachments": {},
   "cell_type": "markdown",
   "metadata": {},
   "source": [
    "# Leçon \"Data Dunkers\" : Données d'un fichier Excel"
   ]
  },
  {
   "cell_type": "markdown",
   "metadata": {},
   "source": [
    "Le cahier d'activités correspondant à ce cahier de leçons est disponible [ici] (https://github.com/Data-Dunkers/activities/blob/main/data-from-excel.ipynb)."
   ]
  },
  {
   "cell_type": "markdown",
   "metadata": {},
   "source": [
    "## Objectifs"
   ]
  },
  {
   "cell_type": "markdown",
   "metadata": {},
   "source": [
    "À la fin de cette leçon, les élèves seront capables de :\n",
    "- Extraire des données d'un fichier Excel.\n",
    "    - Exemple : Charger les données X et Y d'un fichier Excel et créer un graphique linéaire pour visualiser les données.\n",
    "- Comprendre les étapes de base de la préparation et de la visualisation des données.\n",
    "- Reconnaître les similitudes et les différences entre le travail avec des fichiers CSV et Excel.\n",
    "    - Exemple : Comparer le processus de chargement des données X et Y d'un fichier CSV à celui d'un fichier Excel et tracer les résultats."
   ]
  },
  {
   "cell_type": "markdown",
   "metadata": {},
   "source": [
    "## Setup"
   ]
  },
  {
   "cell_type": "markdown",
   "metadata": {},
   "source": [
    "Ce premier bloc de code vérifie si la bibliothèque de code [Openpyxl](https://pypi.org/project/openpyxl/) a été installée, et l'installe si nécessaire."
   ]
  },
  {
   "cell_type": "code",
   "execution_count": null,
   "metadata": {},
   "outputs": [],
   "source": [
    "try:\n",
    "    import openpyxl\n",
    "    display('openpyxl imported')\n",
    "except:\n",
    "    !pip install openpyxl\n",
    "    import openpyxl"
   ]
  },
  {
   "attachments": {},
   "cell_type": "markdown",
   "metadata": {},
   "source": [
    "## Introduction"
   ]
  },
  {
   "attachments": {},
   "cell_type": "markdown",
   "metadata": {},
   "source": [
    "Jusqu'à présent, nous avons vu comment obtenir des données [dans le carnet Jupyter lui-même] (https://github.com/Data-Dunkers/lessons/blob/main/data-from-internal.ipynb) et à partir d'un [fichier CSV] (https://github.com/Data-Dunkers/lessons/blob/main/data-from-csv.ipynb).\n",
    "\n",
    "Dans cette leçon, nous allons obtenir des données à partir d'un fichier Excel."
   ]
  },
  {
   "attachments": {},
   "cell_type": "markdown",
   "metadata": {},
   "source": [
    "## Données provenant d'une feuille de calcul Excel"
   ]
  },
  {
   "attachments": {},
   "cell_type": "markdown",
   "metadata": {},
   "source": [
    "L'importation des données d'un fichier Excel n'est pas très différente de celle d'un fichier CSV. Au lieu de `pd.read_csv()`, nous utilisons `pd.read_excel()`."
   ]
  },
  {
   "cell_type": "code",
   "execution_count": null,
   "metadata": {},
   "outputs": [],
   "source": [
    "import plotly.express as px\n",
    "import pandas as pd\n",
    "\n",
    "url = 'https://raw.githubusercontent.com/Data-Dunkers/data-dunkers-modules/main/data-dunkers/Data/x-y-data.xlsx'\n",
    "df = pd.read_excel(url)\n",
    "\n",
    "# Create the plot\n",
    "px.line(df, x='X', y='Y', title='Data from an Excel file')"
   ]
  },
  {
   "cell_type": "markdown",
   "metadata": {},
   "source": [
    "## Exercice"
   ]
  },
  {
   "cell_type": "markdown",
   "metadata": {},
   "source": [
    "En utilisant le code ci-dessus comme exemple, utilisez les données ci-dessous pour tracer les buts marqués par Pascal Siakam au cours de sa carrière chez les Raptors."
   ]
  },
  {
   "cell_type": "code",
   "execution_count": null,
   "metadata": {},
   "outputs": [],
   "source": [
    "# Setup\n",
    "\n",
    "\n",
    "# Input\n",
    "url = 'https://raw.githubusercontent.com/Data-Dunkers/data-dunkers-modules/main/data-dunkers/Data/example.xls'\n",
    "\n",
    "\n",
    "# Process\n",
    "\n",
    "\n",
    "# Output"
   ]
  },
  {
   "cell_type": "markdown",
   "metadata": {},
   "source": [
    "---\n",
    "Dans notre prochaine démonstration, nous obtiendrons nos données à partir d'une [page web] (https://github.com/Data-Dunkers/lessons/blob/main/data-from-webpage.ipynb).\n",
    "\n",
    "---\n",
    "Retour à [Leçons](https://github.com/Data-Dunkers/lessons/blob/main/lessons.ipynb)"
   ]
  }
 ],
 "metadata": {
  "kernelspec": {
   "display_name": ".venv",
   "language": "python",
   "name": "python3"
  },
  "language_info": {
   "codemirror_mode": {
    "name": "ipython",
    "version": 3
   },
   "file_extension": ".py",
   "mimetype": "text/x-python",
   "name": "python",
   "nbconvert_exporter": "python",
   "pygments_lexer": "ipython3",
   "version": "3.11.4"
  }
 },
 "nbformat": 4,
 "nbformat_minor": 2
}
