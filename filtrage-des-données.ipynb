{
 "cells": [
  {
   "cell_type": "markdown",
   "metadata": {},
   "source": [
    "![Data Dunkers Banner](https://github.com/Data-Dunkers/lessons/blob/main/images/top-banner.jpg?raw=true)\n",
    "\n",
    "<a href=\"https://hub.callysto.ca/jupyter/hub/user-redirect/git-pull?repo=https%3A%2F%2Fgithub.com%2Fdata-dunkers%2Flessons&branch=main&subPath=data-filtering.ipynb&depth=1\" target=\"_parent\"><img src=\"https://raw.githubusercontent.com/Data-Dunkers/lessons/main/images/open-in-callysto-button.svg?sanitize=true\" width=\"123\" height=\"24\" alt=\"Open in Callysto\"/></a>\n",
    "<a href=\"https://colab.research.google.com/github/data-dunkers/lessons/blob/main/data-filtering.ipynb\" target=\"_parent\"><img src=\"https://raw.githubusercontent.com/Data-Dunkers/lessons/main/images/open-in-colab-button.svg?sanitize=true\" width=\"123\" height=\"24\" alt=\"Open in Colab\"/></a>"
   ]
  },
  {
   "cell_type": "markdown",
   "metadata": {},
   "source": [
    "# Leçon de Data Dunkers : Filtrer les données"
   ]
  },
  {
   "cell_type": "markdown",
   "metadata": {},
   "source": [
    "Le cahier d'activités correspondant à ce cahier de leçons est disponible [ici] (https://github.com/Data-Dunkers/activities/blob/main/data-filtering.ipynb)."
   ]
  },
  {
   "cell_type": "markdown",
   "metadata": {},
   "source": [
    "## Objectifs"
   ]
  },
  {
   "cell_type": "markdown",
   "metadata": {},
   "source": [
    "A la fin de cette leçon, les élèves seront capables de :\n",
    "\n",
    "- d'apprendre à filtrer les données pour se concentrer sur ce qui est important.\n",
    "  - Exemple : Filtrer les statistiques de Pascal Siakam pour ne retenir que les saisons jusqu'en 2022-23.\n",
    "- Comprendre le processus d'affinage des données pour une meilleure analyse.\n",
    "  - Exemple : Supprimer les saisons et les colonnes non pertinentes des données de Pascal Siakam pour se concentrer sur ses principales performances.\n",
    "- Appliquer des techniques simples pour nettoyer et préparer les données en vue de leur utilisation.\n",
    "  - Exemple : Nettoyer un ensemble de données en éliminant les entrées contenant des informations incomplètes et en se concentrant sur les colonnes pertinentes."
   ]
  },
  {
   "attachments": {},
   "cell_type": "markdown",
   "metadata": {},
   "source": [
    "## Importation / Entrée"
   ]
  },
  {
   "cell_type": "markdown",
   "metadata": {},
   "source": [
    "Là encore, nous allons importer [pandas](https://pandas.pydata.org/) pour lire les données d'un [fichier CSV](https://en.wikipedia.org/wiki/Comma-separated_values)."
   ]
  },
  {
   "cell_type": "code",
   "execution_count": null,
   "metadata": {},
   "outputs": [],
   "source": [
    "import pandas as pd\n",
    "\n",
    "# URL of the CSV file containing data for Pascal Siakam\n",
    "url = 'https://raw.githubusercontent.com/pbeens/Data-Dunkers/main/Data/Pascal_Siakam.csv'\n",
    "\n",
    "# Read the CSV file into a pandas DataFrame\n",
    "df = pd.read_csv(url)\n",
    "\n",
    "# Display the DataFrame\n",
    "display(df)"
   ]
  },
  {
   "attachments": {},
   "cell_type": "markdown",
   "metadata": {},
   "source": [
    "## Ne prendre en compte que les saisons avec les Raptors"
   ]
  },
  {
   "cell_type": "markdown",
   "metadata": {},
   "source": [
    "Il y a plusieurs choses que vous remarquerez dans les données ci-dessus. La première est qu'elles incluent des données de l'année où Pascal Siakam a été échangé avec les Indiana Pacers, ainsi qu'une ligne contenant les totaux et les moyennes de sa carrière. Pour éliminer ces éléments, nous pouvons simplement nous assurer que nous n'incluons que les données jusqu'à la saison 2022-23 incluse."
   ]
  },
  {
   "cell_type": "code",
   "execution_count": null,
   "metadata": {},
   "outputs": [],
   "source": [
    "# Filter the DataFrame to exclude seasons after 2022-23\n",
    "filter = df['SEASON_ID'] <= '2022-23'\n",
    "df = df[filter]\n",
    "\n",
    "# Display the filtered DataFrame\n",
    "display(df)"
   ]
  },
  {
   "cell_type": "markdown",
   "metadata": {},
   "source": [
    "## Comment réduire le nombre de colonnes"
   ]
  },
  {
   "cell_type": "markdown",
   "metadata": {},
   "source": [
    "Réduisons le nombre de colonnes pour faciliter le travail. Pour ce faire, nous mettons en place un filtre, d'abord en spécifiant les colonnes que nous voulons conserver, puis en utilisant ce filtre pour filtrer le DataFrame."
   ]
  },
  {
   "cell_type": "code",
   "execution_count": null,
   "metadata": {},
   "outputs": [],
   "source": [
    "# Filter the DataFrame to only include specific columns\n",
    "columns_to_keep = [\n",
    "    'SEASON_ID','PLAYER_AGE', 'GP', 'GS', 'MIN', 'AST', 'STL', 'FGM', 'FGA', 'FG_PCT', 'FG3M', \n",
    "    'FG3A', 'FG3_PCT', 'FTM', 'FTA', 'FT_PCT', 'PTS', 'FG2M', 'FG2A', 'FG2_PCT' \n",
    "]\n",
    "df = df[columns_to_keep]\n",
    "\n",
    "# Display the filtered DataFrame\n",
    "display(df)"
   ]
  },
  {
   "attachments": {},
   "cell_type": "markdown",
   "metadata": {},
   "source": [
    "## Filtrage par pourcentage de lancers francs > 75%"
   ]
  },
  {
   "cell_type": "markdown",
   "metadata": {},
   "source": [
    "Nous pouvons filtrer les données pour n'afficher que les lignes où le pourcentage de lancers francs de Pascal Siakam est supérieur à 75 %."
   ]
  },
  {
   "cell_type": "code",
   "execution_count": null,
   "metadata": {},
   "outputs": [],
   "source": [
    "filter = df['FT_PCT'] > 0.75  # free throw % above 75%\n",
    "\n",
    "# Display the filtered DataFrame\n",
    "display(df[filter])"
   ]
  },
  {
   "attachments": {},
   "cell_type": "markdown",
   "metadata": {},
   "source": [
    "## ...et quand il a commencé chaque match"
   ]
  },
  {
   "cell_type": "markdown",
   "metadata": {},
   "source": [
    "Et si nous ne voulions afficher que les saisons où il a commencé tous les matchs. Logiquement, il s'agirait des saisons où le nombre de matchs joués (GS) est égal au nombre de matchs commencés (GS). Nous pouvons filtrer en utilisant `==` qui signifie \"est égal à\"."
   ]
  },
  {
   "cell_type": "code",
   "execution_count": null,
   "metadata": {},
   "outputs": [],
   "source": [
    "filter = df['GS'] == df['GP'] # games started equals games \n",
    "\n",
    "# Display the filtered DataFrame\n",
    "display(df[filter])"
   ]
  },
  {
   "attachments": {},
   "cell_type": "markdown",
   "metadata": {},
   "source": [
    "Il est même possible d'inclure plusieurs conditions. \"`&`\" signifie \"et\"."
   ]
  },
  {
   "cell_type": "code",
   "execution_count": null,
   "metadata": {},
   "outputs": [],
   "source": [
    "filter_1 = df['FT_PCT'] > 0.75 # free throw % above 75%\n",
    "filter_2 = df['GS'] == df['GP'] # games started equals games\n",
    "\n",
    "# Display the filtered DataFrame\n",
    "display(df[filter_1 & filter_2])"
   ]
  },
  {
   "attachments": {},
   "cell_type": "markdown",
   "metadata": {},
   "source": [
    "Ce sont les symboles que nous utilisons pour les opérations de comparaison en Python :\n",
    "\n",
    "|Symbole|Manière|\n",
    "|-|-|\n",
    "|>|plus grand que\n",
    "|<|moins que|\n",
    "|==|est égal à|\n",
    "|!=|pas égal à|\n",
    "|>=|Plus grand ou égal à\n",
    "|<==inférieur ou égal à|\n",
    "|et\n",
    "||ou||"
   ]
  },
  {
   "attachments": {},
   "cell_type": "markdown",
   "metadata": {},
   "source": [
    "## Exercice"
   ]
  },
  {
   "attachments": {},
   "cell_type": "markdown",
   "metadata": {},
   "source": [
    "Dans la cellule ci-dessous, mettez à jour le code pour n'afficher que les lignes où le nombre de passes décisives (\"AST\") est supérieur à 200 ou le nombre d'interceptions (\"STL\") est supérieur à 50."
   ]
  },
  {
   "cell_type": "code",
   "execution_count": null,
   "metadata": {},
   "outputs": [],
   "source": [
    "import pandas as pd\n",
    "\n",
    "url = 'https://raw.githubusercontent.com/pbeens/Data-Dunkers/main/Data/Pascal_Siakam.csv'\n",
    "df = pd.read_csv(url)\n",
    "\n",
    "df = df[df['SEASON_ID'] <= '2022-23']\n",
    "\n",
    "filter_1 = \n",
    "filter_2 = \n",
    "display(df) "
   ]
  },
  {
   "cell_type": "markdown",
   "metadata": {},
   "source": [
    "---\n",
    "*Report issues or give us feedback about this notebook [here](https://docs.google.com/forms/d/e/1FAIpQLSdMRX2hPqZyD8-argFJXxB3ABQdLk3aUH1CAfmMEtcFAlWzCw/viewform?usp=pp_url&entry.1771525592=Module%20Resources%20%28the%20Jupyter%20notebooks%2C%20PPTS%20or%20additional%20resources%29&entry.1364186163=Filtering%20Our%20Data).*\n",
    "\n",
    "\n",
    "---\n",
    "Retour à [Leçons](https://github.com/pbeens/Data-Dunkers/blob/main/Lessons.ipynb)\n",
    "\n",
    "---\n"
   ]
  }
 ],
 "metadata": {
  "kernelspec": {
   "display_name": ".venv",
   "language": "python",
   "name": "python3"
  },
  "language_info": {
   "codemirror_mode": {
    "name": "ipython",
    "version": 3
   },
   "file_extension": ".py",
   "mimetype": "text/x-python",
   "name": "python",
   "nbconvert_exporter": "python",
   "pygments_lexer": "ipython3",
   "version": "3.11.4"
  }
 },
 "nbformat": 4,
 "nbformat_minor": 2
}
