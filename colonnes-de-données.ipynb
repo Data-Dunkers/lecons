{
 "cells": [
  {
   "cell_type": "markdown",
   "metadata": {},
   "source": [
    "![Data Dunkers Banner](https://github.com/Data-Dunkers/lessons/blob/main/images/top-banner.jpg?raw=true)\n",
    "\n",
    "<a href=\"https://hub.callysto.ca/jupyter/hub/user-redirect/git-pull?repo=https%3A%2F%2Fgithub.com%2Fdata-dunkers%2Flessons&branch=main&subPath=data-columns.ipynb&depth=1\" target=\"_parent\"><img src=\"https://raw.githubusercontent.com/Data-Dunkers/lessons/main/images/open-in-callysto-button.svg?sanitize=true\" width=\"123\" height=\"24\" alt=\"Open in Callysto\"/></a>\n",
    "<a href=\"https://colab.research.google.com/github/data-dunkers/lessons/blob/main/data-columns.ipynb\" target=\"_parent\"><img src=\"https://raw.githubusercontent.com/Data-Dunkers/lessons/main/images/open-in-colab-button.svg?sanitize=true\" width=\"123\" height=\"24\" alt=\"Open in Colab\"/></a>"
   ]
  },
  {
   "attachments": {},
   "cell_type": "markdown",
   "metadata": {},
   "source": [
    "# Leçon de Data Dunkers : Colonnes"
   ]
  },
  {
   "cell_type": "markdown",
   "metadata": {},
   "source": [
    "Le cahier d'activités correspondant à ce cahier de leçons est disponible [ici] (https://github.com/Data-Dunkers/activities/blob/main/data-columns.ipynb).\n",
    "\n",
    "*Un guide pour cette leçon est disponible [ici](https://github.com/pbeens/Data-Dunkers/blob/main/Demos/Guides/columns-guide.md) ou sous forme de [PDF](https://github.com/pbeens/Data-Dunkers/blob/main/Demos/Guides/columns-guide.pdf) pour téléchargement."
   ]
  },
  {
   "cell_type": "markdown",
   "metadata": {},
   "source": [
    "## Objectifs"
   ]
  },
  {
   "cell_type": "markdown",
   "metadata": {},
   "source": [
    "A la fin de cette leçon, les élèves seront capables de :\n",
    "\n",
    "- Charger et visualiser des données à partir d'un fichier CSV à l'aide de pandas.\n",
    "    - Exemple : Charger les données de basket-ball de Pascal Siakam à partir d'un fichier CSV dans un DataFrame et afficher son contenu.\n",
    "- Accéder à des colonnes spécifiques d'un DataFrame et les manipuler.\n",
    "    - Exemple :  Afficher et filtrer des colonnes telles que \"FGM\" (Field Goals Made) et \"FGA\" (Field Goal Attempts) pour se concentrer sur les performances de tir.\n",
    "- Appliquer des boucles Python pour explorer et comprendre les colonnes du DataFrame.\n",
    "    - Exemple : Utiliser une boucle for pour itérer sur les noms des colonnes et imprimer chacun d'entre eux, ce qui permet de mieux comprendre la structure de l'ensemble de données."
   ]
  },
  {
   "attachments": {},
   "cell_type": "markdown",
   "metadata": {},
   "source": [
    "## Importation / Entrée"
   ]
  },
  {
   "cell_type": "markdown",
   "metadata": {},
   "source": [
    "Nous allons importer la [bibliothèque de code](https://en.wikipedia.org/wiki/Library_(computing)) appelée [pandas](https://pandas.pydata.org/) pour lire les données d'un [fichier CSV](https://en.wikipedia.org/wiki/Comma-separated_values)."
   ]
  },
  {
   "cell_type": "code",
   "execution_count": null,
   "metadata": {},
   "outputs": [],
   "source": [
    "import pandas as pd\n",
    "\n",
    "# URL of the CSV file containing data for Pascal Siakam\n",
    "url = 'https://raw.githubusercontent.com/Data-Dunkers/data-dunkers-modules/main/data-dunkers/Data/Pascal_Siakam.csv'\n",
    "\n",
    "# Read the CSV file into a pandas DataFrame named df\n",
    "df = pd.read_csv(url)\n",
    "\n",
    "# Display the DataFrame\n",
    "df"
   ]
  },
  {
   "attachments": {},
   "cell_type": "markdown",
   "metadata": {},
   "source": [
    "Vous pouvez consulter le fichier CSV brut [ici] (https://raw.githubusercontent.com/Data-Dunkers/data/main/NBA/Pascal_Siakam.csv).\n",
    "\n",
    "Vous remarquez la dernière ligne ? Pourquoi devriez-vous la garder à l'esprit ?"
   ]
  },
  {
   "attachments": {},
   "cell_type": "markdown",
   "metadata": {},
   "source": [
    "## Regarder les colonnes"
   ]
  },
  {
   "attachments": {},
   "cell_type": "markdown",
   "metadata": {},
   "source": [
    "Il y a beaucoup de colonnes, nous allons donc les lister en utilisant l'attribut `columns`.\n",
    "\n",
    "Remarquez qu'il n'y a pas de parenthèses lorsque nous utilisons `columns`."
   ]
  },
  {
   "cell_type": "code",
   "execution_count": null,
   "metadata": {},
   "outputs": [],
   "source": [
    "df.columns"
   ]
  },
  {
   "cell_type": "markdown",
   "metadata": {},
   "source": [
    "Une autre façon d'examiner les colonnes pourrait être d'utiliser une boucle \"for\". La boucle est un concept important en programmation."
   ]
  },
  {
   "cell_type": "code",
   "execution_count": null,
   "metadata": {},
   "outputs": [],
   "source": [
    "for column in df.columns:\n",
    "    print(column)"
   ]
  },
  {
   "attachments": {},
   "cell_type": "markdown",
   "metadata": {},
   "source": [
    "Voici ce que signifient toutes les colonnes :\n",
    "\n",
    "| Nom du champ | Définition | Nom du champ | Définition | Nom du champ | Définition\n",
    "|---|---|---|---|\n",
    "| AST - Le nombre total de passes décisives effectuées par le joueur. | FTM | Le nombre total de lancers francs effectués par le joueur. |\n",
    "| BLK - Le nombre total de tirs adverses qu'un joueur a dévié ou empêché. | GP | Le nombre de matchs dans lesquels le joueur est apparu. |\n",
    "| DREB | Le nombre total de rebonds qu'un joueur a pris sur le plan défensif. | GS - Le nombre de matchs où le joueur était dans l'équipe de départ. |\n",
    "| FG_PCT | Pourcentage de tentatives de tir réussies. | MIN - Le nombre total de minutes jouées par le joueur. |\n",
    "| FG2_PCT | Pourcentage de tentatives de tir à deux points réussies. | OREB | Le nombre total de rebonds qu'un joueur a pris du côté offensif. |\n",
    "| FG2A | Nombre total de tentatives de tir à deux points effectuées par le joueur. | PF | Le nombre total de fautes personnelles commises par le joueur. |\n",
    "| FG2M | Le nombre total de buts à deux points marqués par un joueur. | PLAYER_AGE | L'âge du joueur. |\n",
    "| FG3_PCT | Pourcentage de tentatives de tirs à trois points réussies. | PTS | Le nombre total de points marqués par un joueur. |\n",
    "| FG3A | Nombre total de tentatives de tirs à trois points effectuées par le joueur. | REB - Le nombre total de rebonds (offensifs + défensifs) qu'un joueur a pris. |\n",
    "| FG3M - Le nombre total de buts à trois points marqués par un joueur. | SEASON_ID | L'identifiant de la saison de basketball. |\n",
    "| FGA | Le nombre total de tentatives de tir au but par le joueur. | STL | Le nombre total de fois où un joueur a réussi à prendre le ballon à un adversaire. |\n",
    "| FGM | Le nombre total de buts marqués par un joueur. | Le nombre total de fois où un joueur a réussi à prendre le ballon à l'adversaire. |\n",
    "| FT_PCT | Le pourcentage de tentatives de lancers francs réussies. | TEAM_ID | Un identifiant unique pour l'équipe. |\n",
    "| FTA | Le nombre total de tentatives de lancers francs par le joueur. | TOV | Nombre total de fois où le joueur a perdu la possession du ballon. |"
   ]
  },
  {
   "attachments": {},
   "cell_type": "markdown",
   "metadata": {},
   "source": [
    "Examinons uniquement la colonne des buts marqués (Field Goals Made)."
   ]
  },
  {
   "cell_type": "code",
   "execution_count": null,
   "metadata": {},
   "outputs": [],
   "source": [
    "df['FGM']"
   ]
  },
  {
   "attachments": {},
   "cell_type": "markdown",
   "metadata": {},
   "source": [
    "Et si nous voulions aussi avoir FGA (Field Goal Attempts Per Game) ? Remarquez que les noms des colonnes sont maintenant placés dans une liste (`[ ]`), qui est entourée de crochets."
   ]
  },
  {
   "cell_type": "code",
   "execution_count": null,
   "metadata": {},
   "outputs": [],
   "source": [
    "df[['FGM', 'FGA']]"
   ]
  },
  {
   "attachments": {},
   "cell_type": "markdown",
   "metadata": {},
   "source": [
    "## Exercice"
   ]
  },
  {
   "cell_type": "markdown",
   "metadata": {},
   "source": [
    "Modifiez le code ci-dessous pour n'afficher que les colonnes Pourcentage de buts marqués, Pourcentage de buts marqués à 2 points, Pourcentage de buts marqués à 3 points et Pourcentage de lancers francs.\n",
    "\n",
    "*Conseil : commencez par noter les noms de ces champs dans le tableau ci-dessus."
   ]
  },
  {
   "cell_type": "code",
   "execution_count": null,
   "metadata": {},
   "outputs": [],
   "source": [
    "import pandas as pd\n",
    "\n",
    "url = 'https://raw.githubusercontent.com/Data-Dunkers/data-dunkers-modules/main/data-dunkers/Data/Pascal_Siakam.csv'\n",
    "df = pd.read_csv(url)\n",
    "\n",
    "# Write your code below\n",
    "\n"
   ]
  },
  {
   "cell_type": "markdown",
   "metadata": {},
   "source": [
    "---\n",
    "Retour à [Leçons] (https://github.com/Data-Dunkers/lessons/blob/main/lessons.ipynb)\n",
    "\n",
    "---"
   ]
  }
 ],
 "metadata": {
  "kernelspec": {
   "display_name": ".venv",
   "language": "python",
   "name": "python3"
  },
  "language_info": {
   "codemirror_mode": {
    "name": "ipython",
    "version": 3
   },
   "file_extension": ".py",
   "mimetype": "text/x-python",
   "name": "python",
   "nbconvert_exporter": "python",
   "pygments_lexer": "ipython3",
   "version": "3.11.4"
  }
 },
 "nbformat": 4,
 "nbformat_minor": 2
}
