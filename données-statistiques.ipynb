{
 "cells": [
  {
   "cell_type": "markdown",
   "metadata": {},
   "source": [
    "![Data Dunkers Banner](https://github.com/Data-Dunkers/lessons/blob/main/images/top-banner.jpg?raw=true)\n",
    "\n",
    "<a href=\"https://hub.callysto.ca/jupyter/hub/user-redirect/git-pull?repo=https%3A%2F%2Fgithub.com%2Fdata-dunkers%2Flessons&branch=main&subPath=data-statistics.ipynb&depth=1\" target=\"_parent\"><img src=\"https://raw.githubusercontent.com/Data-Dunkers/lessons/main/images/open-in-callysto-button.svg?sanitize=true\" width=\"123\" height=\"24\" alt=\"Open in Callysto\"/></a>\n",
    "<a href=\"https://colab.research.google.com/github/data-dunkers/lessons/blob/main/data-statistics.ipynb\" target=\"_parent\"><img src=\"https://raw.githubusercontent.com/Data-Dunkers/lessons/main/images/open-in-colab-button.svg?sanitize=true\" width=\"123\" height=\"24\" alt=\"Open in Colab\"/></a>"
   ]
  },
  {
   "cell_type": "markdown",
   "metadata": {},
   "source": [
    "# Leçon de Data Dunkers : les statistiques"
   ]
  },
  {
   "cell_type": "markdown",
   "metadata": {},
   "source": [
    "## Objectifs"
   ]
  },
  {
   "cell_type": "markdown",
   "metadata": {},
   "source": [
    "À la fin de cette leçon, les étudiants seront capables de :\n",
    "- Calculer des mesures statistiques de base telles que le minimum, le maximum, la moyenne et la médiane en utilisant Python.\n",
    "    - Exemple : Calculer le nombre minimum, maximum, médian et moyen de matchs joués par les joueurs des Raptors.\n",
    "- Manipuler et mettre en forme des données statistiques pour une présentation claire.\n",
    "    - Exemple : Convertir le nombre médian de matchs d'un nombre flottant à un nombre entier et arrondir la moyenne à une décimale.\n",
    "- Générer des statistiques complètes pour des ensembles de données entiers à l'aide de fonctions telles que `describe()`.\n",
    "    - Exemple : Utilisez la fonction `describe()` pour afficher toutes les statistiques disponibles pour les colonnes numériques de l'ensemble de données Raptors.\n",
    "- Appliquer les chaînes f pour un formatage avancé des données en Python afin de créer des résultats clairs et précis.\n",
    "    - Exemple : Utilisez les chaînes f pour formater la sortie de mesures statistiques telles que le minimum, le maximum, la moyenne et la médiane d'une manière lisible."
   ]
  },
  {
   "cell_type": "markdown",
   "metadata": {},
   "source": [
    "## Introduction"
   ]
  },
  {
   "cell_type": "markdown",
   "metadata": {},
   "source": [
    "Les statistiques sont utilisées dans de nombreux domaines d'étude afin de déterminer pourquoi les choses se produisent, quand elles se produisent et si leur répétition est prévisible. Voici quelques exemples quotidiens de l'utilisation des statistiques¹ :\n",
    "\n",
    "- **Biologie** : Les statistiques peuvent être utilisées pour analyser les données provenant d'expériences et d'études de recherche en biologie.\n",
    "- **Croissance de l'entreprise** : Les statistiques peuvent être utilisées pour analyser les données des ventes et d'autres mesures commerciales afin d'identifier les tendances et les opportunités de croissance.\n",
    "- **Économie** : Les statistiques peuvent être utilisées pour analyser des données économiques telles que le PIB, les taux d'inflation et les taux de chômage.\n",
    "- Agriculture et jardinage** : Les statistiques peuvent être utilisées pour analyser le rendement des cultures et d'autres données agricoles.\n",
    "- Épicerie** : Les statistiques peuvent être utilisées pour analyser les données relatives aux ventes des épiceries et autres détaillants.\n",
    "- Logement** : Les statistiques peuvent être utilisées pour analyser les données relatives au logement, telles que les prix des maisons et les taux de location.\n",
    "- Infrastructure** : Les statistiques peuvent être utilisées pour analyser les données relatives à l'infrastructure, telles que les schémas de circulation et l'état des routes.\n",
    "- Médecine** : Les statistiques peuvent être utilisées pour analyser des données médicales telles que les résultats des patients et l'efficacité des médicaments.\n",
    "- Garanties** : Les statistiques peuvent être utilisées pour analyser les données relatives aux réclamations au titre de la garantie afin d'identifier les tendances et les problèmes potentiels liés aux produits.\n",
    "- **Performance du site web** : Les statistiques peuvent être utilisées pour analyser les données relatives au trafic sur les sites web et le comportement des utilisateurs.\n",
    "\n",
    "1. Source : Conversation avec Bing, 2023-07-10 : Conversation avec Bing, 2023-07-10\n",
    "\n",
    "---\n",
    "\n",
    "Calculons quelques statistiques de base, notamment la moyenne, la médiane, le minimum et le maximum.\n",
    "\n",
    "Rappelons les noms des colonnes du fichier Raptors :\n",
    "\n",
    "| Le nom de la colonne est le suivant : \"Colonne\" - \"Signification\" - \"Colonne\" - \"Signification\" - \"Colonne\" - \"Signification\".\n",
    "|--------|---------|--------|---------|\n",
    "| Âge - Âge du joueur au 1er février de la saison - 3P - 3-Point Field Goals Per Game - 3-Points Field Goals Per Game - 3-Points Field Goals Per Game - 3-Points Field Goals Per Game - 3-Points Field Goals Per Game\n",
    "3PA | 3-Point Field Goal Attempts Per Game | 3P | 3-Point Field Goal Attempts Per Game | 3PA | 3-Point Field Goal Attempts Per Game\n",
    "| 3P% | Pourcentage de réussite au tir à 3 points par match\n",
    "2P | 2-Point Field Goals Per Game | GS | Games Started | 2P | 2-Point Field Goals Per Game | GS | Games Started | 2P | 2-Point Field Goals Per Game\n",
    "2PA | Tentatives de tir au but à 2 points par match | GS | Games Started | 2PA | Tentatives de tir au but à 2 points par match | MP | Minutes jouées par match\n",
    "2P% | 2-Point Field Goal Percentage | 2P% | 2-Point Field Goal Percentage | 2P% | 2-Point Field Goal Percentage | FG | Field Goals Per Game\n",
    "| eFG% | Pourcentage effectif de buts sur le terrain* | FGA | Tentatives de buts sur le terrain par match\n",
    "FG% | Pourcentage effectif de buts sur le terrain* | FGA | Tentatives de buts sur le terrain par match | FT | Lancers francs par match | FG% | Pourcentage de buts sur le terrain par match\n",
    "FG% | Pourcentage de réussite au tir au but | FTA | Tentatives de lancers francs par match | ORB | Rebonds offensifs\n",
    "| ORB | Rebonds offensifs par match FT% | Pourcentage de lancers francs\n",
    "ORB | Rebonds offensifs par match | FT% | Pourcentage de lancers francs | DRB | Rebonds défensifs par match | TRB | Rebonds totaux par match | AST | Assists per game\n",
    "| AST - Assists Per Game - STL - Steals Per Game - BLK - Blocks Per Game - BLK - Blocks Per Game - BLK - Blocks Per Game - BLK\n",
    "| BLK | Blocs par match | TOV | Turnovers par match | PF | Fautes personnelles par match\n",
    "| PF | Fautes personnelles par match | PTS | Points par match\n",
    "\n",
    "\n",
    "<span style=\"font-size:10px\">*Cette statistique tient compte du fait qu'un but de 3 points vaut un point de plus qu'un but de 2 points.</span>"
   ]
  },
  {
   "cell_type": "markdown",
   "metadata": {},
   "source": [
    "## min(), max(), median(), mean()"
   ]
  },
  {
   "cell_type": "markdown",
   "metadata": {},
   "source": [
    "Importons un fichier de données sur la saison 2023 des Raptors et utilisons la colonne `'G'` pour calculer le nombre minimum, maximum, moyen et médian de matchs joués."
   ]
  },
  {
   "cell_type": "code",
   "execution_count": null,
   "metadata": {},
   "outputs": [],
   "source": [
    "import pandas as pd\n",
    "\n",
    "url = 'https://raw.githubusercontent.com/Data-Dunkers/data/main/NBA/raptors-2023.csv'\n",
    "raptors_df = pd.read_csv(url)\n",
    "\n",
    "print('Minimum =', raptors_df['G'].min())\n",
    "\n",
    "print('Maximum =', raptors_df['G'].max())\n",
    "\n",
    "print('Median =', int(raptors_df['G'].median()))\n",
    "\n",
    "print('Mean =', raptors_df['G'].mean().round(1))"
   ]
  },
  {
   "cell_type": "markdown",
   "metadata": {},
   "source": [
    "Vous avez remarqué que nous avons utilisé la fonction `round()` pour arrondir la moyenne à la première décimale ?\n",
    "\n",
    "Nous avons également converti la médiane d'un float (un nombre avec des décimales) en un entier à l'aide de la fonction `int()`."
   ]
  },
  {
   "cell_type": "markdown",
   "metadata": {},
   "source": [
    "## Exercice"
   ]
  },
  {
   "cell_type": "markdown",
   "metadata": {},
   "source": [
    "Quel est l'âge moyen des Raptors ?"
   ]
  },
  {
   "cell_type": "code",
   "execution_count": null,
   "metadata": {},
   "outputs": [],
   "source": [
    "# Write your program here\n"
   ]
  },
  {
   "cell_type": "markdown",
   "metadata": {},
   "source": [
    "## Supplémentaire\n",
    "\n",
    "### Moyenne pour toutes les colonnes numérotées"
   ]
  },
  {
   "cell_type": "markdown",
   "metadata": {},
   "source": [
    "Et si nous voulions regarder les moyennes de *toutes* les colonnes numérotées ? C'est simple !"
   ]
  },
  {
   "cell_type": "code",
   "execution_count": null,
   "metadata": {},
   "outputs": [],
   "source": [
    "raptors_df.mean(numeric_only = True).round(2)"
   ]
  },
  {
   "cell_type": "markdown",
   "metadata": {},
   "source": [
    "### Toutes les statistiques en même temps"
   ]
  },
  {
   "cell_type": "markdown",
   "metadata": {},
   "source": [
    "Affiche toutes les statistiques disponibles pour toutes les colonnes numériques (avec `describe()`) :"
   ]
  },
  {
   "cell_type": "code",
   "execution_count": null,
   "metadata": {},
   "outputs": [],
   "source": [
    "raptors_df.describe()"
   ]
  },
  {
   "cell_type": "markdown",
   "metadata": {},
   "source": [
    "Que se passe-t-il si nous ne voulons consulter qu'une seule colonne ?"
   ]
  },
  {
   "cell_type": "code",
   "execution_count": null,
   "metadata": {},
   "outputs": [],
   "source": [
    "raptors_df['G'].describe()"
   ]
  },
  {
   "cell_type": "markdown",
   "metadata": {},
   "source": [
    "### cordes de fa"
   ]
  },
  {
   "cell_type": "markdown",
   "metadata": {},
   "source": [
    "En utilisant des techniques d'impression avancées en Python (appelées *f-strings*), nous pouvons formater la sortie exactement comme nous le souhaitons :"
   ]
  },
  {
   "cell_type": "code",
   "execution_count": null,
   "metadata": {},
   "outputs": [],
   "source": [
    "print(f\"Minimum = {raptors_df['G'].min():.0f}\")\n",
    "\n",
    "print(f\"Maximum = {raptors_df['G'].max():.0f}\")\n",
    "\n",
    "print(f\"Mean = {raptors_df['G'].mean():.1f}\")\n",
    "\n",
    "print(f\"Median = {raptors_df['G'].median():.0f}\")"
   ]
  },
  {
   "cell_type": "markdown",
   "metadata": {},
   "source": [
    "---\n",
    "*Report issues or give us feedback about this notebook [here](https://docs.google.com/forms/d/e/1FAIpQLSdMRX2hPqZyD8-argFJXxB3ABQdLk3aUH1CAfmMEtcFAlWzCw/viewform?usp=pp_url&entry.1771525592=Module%20Resources%20%28the%20Jupyter%20notebooks%2C%20PPTS%20or%20additional%20resources%29&entry.1364186163=Statistics).*\n",
    "\n",
    "---\n",
    "Retour à [Leçons](https://github.com/Data-Dunkers/lessons/blob/main/lessons.ipynb)\n",
    "\n",
    "---"
   ]
  }
 ],
 "metadata": {
  "kernelspec": {
   "display_name": ".venv",
   "language": "python",
   "name": "python3"
  },
  "language_info": {
   "codemirror_mode": {
    "name": "ipython",
    "version": 3
   },
   "file_extension": ".py",
   "mimetype": "text/x-python",
   "name": "python",
   "nbconvert_exporter": "python",
   "pygments_lexer": "ipython3",
   "version": "3.11.9"
  }
 },
 "nbformat": 4,
 "nbformat_minor": 2
}
